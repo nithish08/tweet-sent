{
 "cells": [
  {
   "cell_type": "code",
   "execution_count": 1,
   "metadata": {},
   "outputs": [],
   "source": [
    "import pandas as pd"
   ]
  },
  {
   "cell_type": "code",
   "execution_count": 5,
   "metadata": {},
   "outputs": [],
   "source": [
    "train = pd.read_csv('data/train.csv')"
   ]
  },
  {
   "cell_type": "code",
   "execution_count": 6,
   "metadata": {},
   "outputs": [
    {
     "data": {
      "text/plain": [
       "(27481, 4)"
      ]
     },
     "execution_count": 6,
     "metadata": {},
     "output_type": "execute_result"
    }
   ],
   "source": [
    "train.shape"
   ]
  },
  {
   "cell_type": "code",
   "execution_count": 8,
   "metadata": {},
   "outputs": [
    {
     "data": {
      "text/html": [
       "<div>\n",
       "<style scoped>\n",
       "    .dataframe tbody tr th:only-of-type {\n",
       "        vertical-align: middle;\n",
       "    }\n",
       "\n",
       "    .dataframe tbody tr th {\n",
       "        vertical-align: top;\n",
       "    }\n",
       "\n",
       "    .dataframe thead th {\n",
       "        text-align: right;\n",
       "    }\n",
       "</style>\n",
       "<table border=\"1\" class=\"dataframe\">\n",
       "  <thead>\n",
       "    <tr style=\"text-align: right;\">\n",
       "      <th></th>\n",
       "      <th>textID</th>\n",
       "      <th>text</th>\n",
       "      <th>selected_text</th>\n",
       "      <th>sentiment</th>\n",
       "    </tr>\n",
       "  </thead>\n",
       "  <tbody>\n",
       "    <tr>\n",
       "      <th>0</th>\n",
       "      <td>cb774db0d1</td>\n",
       "      <td>I`d have responded, if I were going</td>\n",
       "      <td>I`d have responded, if I were going</td>\n",
       "      <td>neutral</td>\n",
       "    </tr>\n",
       "    <tr>\n",
       "      <th>1</th>\n",
       "      <td>549e992a42</td>\n",
       "      <td>Sooo SAD I will miss you here in San Diego!!!</td>\n",
       "      <td>Sooo SAD</td>\n",
       "      <td>negative</td>\n",
       "    </tr>\n",
       "    <tr>\n",
       "      <th>2</th>\n",
       "      <td>088c60f138</td>\n",
       "      <td>my boss is bullying me...</td>\n",
       "      <td>bullying me</td>\n",
       "      <td>negative</td>\n",
       "    </tr>\n",
       "    <tr>\n",
       "      <th>3</th>\n",
       "      <td>9642c003ef</td>\n",
       "      <td>what interview! leave me alone</td>\n",
       "      <td>leave me alone</td>\n",
       "      <td>negative</td>\n",
       "    </tr>\n",
       "    <tr>\n",
       "      <th>4</th>\n",
       "      <td>358bd9e861</td>\n",
       "      <td>Sons of ****, why couldn`t they put them on t...</td>\n",
       "      <td>Sons of ****,</td>\n",
       "      <td>negative</td>\n",
       "    </tr>\n",
       "  </tbody>\n",
       "</table>\n",
       "</div>"
      ],
      "text/plain": [
       "       textID                                               text  \\\n",
       "0  cb774db0d1                I`d have responded, if I were going   \n",
       "1  549e992a42      Sooo SAD I will miss you here in San Diego!!!   \n",
       "2  088c60f138                          my boss is bullying me...   \n",
       "3  9642c003ef                     what interview! leave me alone   \n",
       "4  358bd9e861   Sons of ****, why couldn`t they put them on t...   \n",
       "\n",
       "                         selected_text sentiment  \n",
       "0  I`d have responded, if I were going   neutral  \n",
       "1                             Sooo SAD  negative  \n",
       "2                          bullying me  negative  \n",
       "3                       leave me alone  negative  \n",
       "4                        Sons of ****,  negative  "
      ]
     },
     "execution_count": 8,
     "metadata": {},
     "output_type": "execute_result"
    }
   ],
   "source": [
    "train.head()"
   ]
  },
  {
   "cell_type": "code",
   "execution_count": 9,
   "metadata": {},
   "outputs": [],
   "source": [
    "test = pd.read_csv('data/test.csv')"
   ]
  },
  {
   "cell_type": "code",
   "execution_count": 10,
   "metadata": {},
   "outputs": [
    {
     "data": {
      "text/html": [
       "<div>\n",
       "<style scoped>\n",
       "    .dataframe tbody tr th:only-of-type {\n",
       "        vertical-align: middle;\n",
       "    }\n",
       "\n",
       "    .dataframe tbody tr th {\n",
       "        vertical-align: top;\n",
       "    }\n",
       "\n",
       "    .dataframe thead th {\n",
       "        text-align: right;\n",
       "    }\n",
       "</style>\n",
       "<table border=\"1\" class=\"dataframe\">\n",
       "  <thead>\n",
       "    <tr style=\"text-align: right;\">\n",
       "      <th></th>\n",
       "      <th>textID</th>\n",
       "      <th>text</th>\n",
       "      <th>sentiment</th>\n",
       "    </tr>\n",
       "  </thead>\n",
       "  <tbody>\n",
       "    <tr>\n",
       "      <th>0</th>\n",
       "      <td>f87dea47db</td>\n",
       "      <td>Last session of the day  http://twitpic.com/67ezh</td>\n",
       "      <td>neutral</td>\n",
       "    </tr>\n",
       "    <tr>\n",
       "      <th>1</th>\n",
       "      <td>96d74cb729</td>\n",
       "      <td>Shanghai is also really exciting (precisely -...</td>\n",
       "      <td>positive</td>\n",
       "    </tr>\n",
       "    <tr>\n",
       "      <th>2</th>\n",
       "      <td>eee518ae67</td>\n",
       "      <td>Recession hit Veronique Branquinho, she has to...</td>\n",
       "      <td>negative</td>\n",
       "    </tr>\n",
       "    <tr>\n",
       "      <th>3</th>\n",
       "      <td>01082688c6</td>\n",
       "      <td>happy bday!</td>\n",
       "      <td>positive</td>\n",
       "    </tr>\n",
       "    <tr>\n",
       "      <th>4</th>\n",
       "      <td>33987a8ee5</td>\n",
       "      <td>http://twitpic.com/4w75p - I like it!!</td>\n",
       "      <td>positive</td>\n",
       "    </tr>\n",
       "  </tbody>\n",
       "</table>\n",
       "</div>"
      ],
      "text/plain": [
       "       textID                                               text sentiment\n",
       "0  f87dea47db  Last session of the day  http://twitpic.com/67ezh   neutral\n",
       "1  96d74cb729   Shanghai is also really exciting (precisely -...  positive\n",
       "2  eee518ae67  Recession hit Veronique Branquinho, she has to...  negative\n",
       "3  01082688c6                                        happy bday!  positive\n",
       "4  33987a8ee5             http://twitpic.com/4w75p - I like it!!  positive"
      ]
     },
     "execution_count": 10,
     "metadata": {},
     "output_type": "execute_result"
    }
   ],
   "source": [
    "test.head()"
   ]
  },
  {
   "cell_type": "code",
   "execution_count": 11,
   "metadata": {},
   "outputs": [],
   "source": [
    "import seaborn as sns"
   ]
  },
  {
   "cell_type": "code",
   "execution_count": 13,
   "metadata": {},
   "outputs": [
    {
     "data": {
      "image/png": "[encoded data removed]",
      "text/plain": [
       "<Figure size 432x288 with 1 Axes>"
      ]
     },
     "metadata": {
      "needs_background": "light"
     },
     "output_type": "display_data"
    }
   ],
   "source": [
    "_ = sns.countplot(train.sentiment)"
   ]
  },
  {
   "cell_type": "markdown",
   "metadata": {},
   "source": [
    "Question 1: For neutral sentiment tweets, are text and selected text columns same?"
   ]
  },
  {
   "cell_type": "code",
   "execution_count": 16,
   "metadata": {},
   "outputs": [],
   "source": [
    "neutral = train[train.sentiment=='neutral']"
   ]
  },
  {
   "cell_type": "code",
   "execution_count": 18,
   "metadata": {},
   "outputs": [
    {
     "data": {
      "text/plain": [
       "(11118, 5930)"
      ]
     },
     "execution_count": 18,
     "metadata": {},
     "output_type": "execute_result"
    }
   ],
   "source": [
    "len(neutral), sum(neutral.text == neutral.selected_text)"
   ]
  },
  {
   "cell_type": "markdown",
   "metadata": {},
   "source": [
    "Around half of the tweets with sentiment = 'neutral' are same"
   ]
  },
  {
   "cell_type": "markdown",
   "metadata": {},
   "source": [
    "Let's look at neutral tweets where text != selected_text"
   ]
  },
  {
   "cell_type": "code",
   "execution_count": 25,
   "metadata": {},
   "outputs": [],
   "source": [
    "pd.set_option('display.max_colwidth', -1)  # to display all the text"
   ]
  },
  {
   "cell_type": "code",
   "execution_count": 26,
   "metadata": {},
   "outputs": [
    {
     "data": {
      "text/html": [
       "<div>\n",
       "<style scoped>\n",
       "    .dataframe tbody tr th:only-of-type {\n",
       "        vertical-align: middle;\n",
       "    }\n",
       "\n",
       "    .dataframe tbody tr th {\n",
       "        vertical-align: top;\n",
       "    }\n",
       "\n",
       "    .dataframe thead th {\n",
       "        text-align: right;\n",
       "    }\n",
       "</style>\n",
       "<table border=\"1\" class=\"dataframe\">\n",
       "  <thead>\n",
       "    <tr style=\"text-align: right;\">\n",
       "      <th></th>\n",
       "      <th>textID</th>\n",
       "      <th>text</th>\n",
       "      <th>selected_text</th>\n",
       "      <th>sentiment</th>\n",
       "    </tr>\n",
       "  </thead>\n",
       "  <tbody>\n",
       "    <tr>\n",
       "      <th>199</th>\n",
       "      <td>7a718b23ef</td>\n",
       "      <td>_Sanderson What`s with Twatter lately?  Either I can`t get on or the replies don`t turn up!</td>\n",
       "      <td>What`s with Twatter lately?  Either I can`t get on or the replies don`t turn up!</td>\n",
       "      <td>neutral</td>\n",
       "    </tr>\n",
       "    <tr>\n",
       "      <th>19458</th>\n",
       "      <td>7dad90e273</td>\n",
       "      <td>I spoke too soon  Still a nice evening, but lots of broken cloud coming in from the south.</td>\n",
       "      <td>I spoke too soon  Still a nice evening, but lots of broken cloud coming in from the south.</td>\n",
       "      <td>neutral</td>\n",
       "    </tr>\n",
       "    <tr>\n",
       "      <th>26472</th>\n",
       "      <td>68a56eca92</td>\n",
       "      <td>..uuuups today is mother day???....sh***....iï¿½ve forgot it, my work doesnï¿½t have a end *sigh*....thank you for remind it</td>\n",
       "      <td>..uuuups today is mother day???....sh***....iï¿½ve forgot it, my work doesnï¿½t have a end *sigh*....thank you for remind it</td>\n",
       "      <td>neutral</td>\n",
       "    </tr>\n",
       "    <tr>\n",
       "      <th>2931</th>\n",
       "      <td>b1e3728694</td>\n",
       "      <td>I hope when you`re calling this the shitshow you mean that in a good way. because this will be fun.</td>\n",
       "      <td>e when you`re calling this the shitshow you mean that in a good way. because this will be fun.</td>\n",
       "      <td>neutral</td>\n",
       "    </tr>\n",
       "    <tr>\n",
       "      <th>12905</th>\n",
       "      <td>20486c94d2</td>\n",
       "      <td>why!!!! u have to bring it to you 24/7 like the _team</td>\n",
       "      <td>why!!!! u have to bring it to you 24/7 like the _team</td>\n",
       "      <td>neutral</td>\n",
       "    </tr>\n",
       "    <tr>\n",
       "      <th>22492</th>\n",
       "      <td>9954cca530</td>\n",
       "      <td>my *mom*(not aunt haha) and uncle were both adopted with very diff adoptive stories. if you want to chat sometime lmk</td>\n",
       "      <td>my *mom*(not aunt haha) and uncle were both adopted with very diff adoptive stories. if you want to chat sometime lmk</td>\n",
       "      <td>neutral</td>\n",
       "    </tr>\n",
       "    <tr>\n",
       "      <th>15505</th>\n",
       "      <td>f62728e9d7</td>\n",
       "      <td>well, someone told me it`s only there for two weeks  i`m going again next week with a friend IN SCHOOL TIME :p ...</td>\n",
       "      <td>well, someone told me it`s only there for two weeks  i`m going again next week with a friend IN SCHOOL TIME :p ..</td>\n",
       "      <td>neutral</td>\n",
       "    </tr>\n",
       "    <tr>\n",
       "      <th>16951</th>\n",
       "      <td>a181702898</td>\n",
       "      <td>i can`t call you cause my portable sais that this number not excist  i want so much to talk to you</td>\n",
       "      <td>i can`t call you cause my portable sais that this number not excist  i want so much to talk to you</td>\n",
       "      <td>neutral</td>\n",
       "    </tr>\n",
       "    <tr>\n",
       "      <th>11173</th>\n",
       "      <td>4d3e3aeb24</td>\n",
       "      <td>You really think it was that awesome? We`ll have to discuss</td>\n",
       "      <td>You really think it was that awesome? We`ll have to discuss</td>\n",
       "      <td>neutral</td>\n",
       "    </tr>\n",
       "    <tr>\n",
       "      <th>8964</th>\n",
       "      <td>4eab36d2d2</td>\n",
       "      <td>tea...  Mmmm crispy but no cake  Have headphones!</td>\n",
       "      <td>tea...  Mmmm crispy but no cake  Have headphones!</td>\n",
       "      <td>neutral</td>\n",
       "    </tr>\n",
       "  </tbody>\n",
       "</table>\n",
       "</div>"
      ],
      "text/plain": [
       "           textID  \\\n",
       "199    7a718b23ef   \n",
       "19458  7dad90e273   \n",
       "26472  68a56eca92   \n",
       "2931   b1e3728694   \n",
       "12905  20486c94d2   \n",
       "22492  9954cca530   \n",
       "15505  f62728e9d7   \n",
       "16951  a181702898   \n",
       "11173  4d3e3aeb24   \n",
       "8964   4eab36d2d2   \n",
       "\n",
       "                                                                                                                                text  \\\n",
       "199    _Sanderson What`s with Twatter lately?  Either I can`t get on or the replies don`t turn up!                                     \n",
       "19458   I spoke too soon  Still a nice evening, but lots of broken cloud coming in from the south.                                     \n",
       "26472   ..uuuups today is mother day???....sh***....iï¿½ve forgot it, my work doesnï¿½t have a end *sigh*....thank you for remind it   \n",
       "2931     I hope when you`re calling this the shitshow you mean that in a good way. because this will be fun.                           \n",
       "12905     why!!!! u have to bring it to you 24/7 like the _team                                                                        \n",
       "22492   my *mom*(not aunt haha) and uncle were both adopted with very diff adoptive stories. if you want to chat sometime lmk          \n",
       "15505   well, someone told me it`s only there for two weeks  i`m going again next week with a friend IN SCHOOL TIME :p ...             \n",
       "16951   i can`t call you cause my portable sais that this number not excist  i want so much to talk to you                             \n",
       "11173   You really think it was that awesome? We`ll have to discuss                                                                    \n",
       "8964    tea...  Mmmm crispy but no cake  Have headphones!                                                                              \n",
       "\n",
       "                                                                                                                      selected_text  \\\n",
       "199    What`s with Twatter lately?  Either I can`t get on or the replies don`t turn up!                                               \n",
       "19458  I spoke too soon  Still a nice evening, but lots of broken cloud coming in from the south.                                     \n",
       "26472  ..uuuups today is mother day???....sh***....iï¿½ve forgot it, my work doesnï¿½t have a end *sigh*....thank you for remind it   \n",
       "2931   e when you`re calling this the shitshow you mean that in a good way. because this will be fun.                                 \n",
       "12905  why!!!! u have to bring it to you 24/7 like the _team                                                                          \n",
       "22492  my *mom*(not aunt haha) and uncle were both adopted with very diff adoptive stories. if you want to chat sometime lmk          \n",
       "15505  well, someone told me it`s only there for two weeks  i`m going again next week with a friend IN SCHOOL TIME :p ..              \n",
       "16951  i can`t call you cause my portable sais that this number not excist  i want so much to talk to you                             \n",
       "11173  You really think it was that awesome? We`ll have to discuss                                                                    \n",
       "8964   tea...  Mmmm crispy but no cake  Have headphones!                                                                              \n",
       "\n",
       "      sentiment  \n",
       "199    neutral   \n",
       "19458  neutral   \n",
       "26472  neutral   \n",
       "2931   neutral   \n",
       "12905  neutral   \n",
       "22492  neutral   \n",
       "15505  neutral   \n",
       "16951  neutral   \n",
       "11173  neutral   \n",
       "8964   neutral   "
      ]
     },
     "execution_count": 26,
     "metadata": {},
     "output_type": "execute_result"
    }
   ],
   "source": [
    "neutral[neutral.text != neutral.selected_text].sample(n=10)\n",
    "# randomly pick 10 rows"
   ]
  },
  {
   "cell_type": "markdown",
   "metadata": {},
   "source": [
    "These tweets look similar.\n",
    "Are there trailing spaces or space at the beginning of strings?"
   ]
  },
  {
   "cell_type": "code",
   "execution_count": 32,
   "metadata": {},
   "outputs": [],
   "source": [
    "row = neutral.loc[19458,:]"
   ]
  },
  {
   "cell_type": "code",
   "execution_count": 34,
   "metadata": {},
   "outputs": [
    {
     "data": {
      "text/plain": [
       "True"
      ]
     },
     "execution_count": 34,
     "metadata": {},
     "output_type": "execute_result"
    }
   ],
   "source": [
    "row.text.strip() == row.selected_text.strip()"
   ]
  },
  {
   "cell_type": "markdown",
   "metadata": {},
   "source": [
    "We need to remove these leading and trailing spaces. Also for calculating jaccard similar during evaluationg these trailing and leading spaces will not affect the score."
   ]
  },
  {
   "cell_type": "code",
   "execution_count": 36,
   "metadata": {},
   "outputs": [],
   "source": [
    "train.text = train.text.str.strip()\n",
    "train.selected_text = train.selected_text.str.strip()"
   ]
  },
  {
   "cell_type": "code",
   "execution_count": 37,
   "metadata": {},
   "outputs": [],
   "source": [
    "neutral = train[train.sentiment=='neutral']"
   ]
  },
  {
   "cell_type": "code",
   "execution_count": 38,
   "metadata": {},
   "outputs": [
    {
     "data": {
      "text/plain": [
       "(11118, 10004)"
      ]
     },
     "execution_count": 38,
     "metadata": {},
     "output_type": "execute_result"
    }
   ],
   "source": [
    "len(neutral), sum(neutral.text == neutral.selected_text)"
   ]
  },
  {
   "cell_type": "markdown",
   "metadata": {},
   "source": [
    "Well, 90% of the neutral tweets have same text and selected_text."
   ]
  },
  {
   "cell_type": "markdown",
   "metadata": {},
   "source": [
    "In orde to get better sense of data, Let's look at neutral tweets where text != selected_text"
   ]
  },
  {
   "cell_type": "code",
   "execution_count": 40,
   "metadata": {},
   "outputs": [
    {
     "data": {
      "text/html": [
       "<div>\n",
       "<style scoped>\n",
       "    .dataframe tbody tr th:only-of-type {\n",
       "        vertical-align: middle;\n",
       "    }\n",
       "\n",
       "    .dataframe tbody tr th {\n",
       "        vertical-align: top;\n",
       "    }\n",
       "\n",
       "    .dataframe thead th {\n",
       "        text-align: right;\n",
       "    }\n",
       "</style>\n",
       "<table border=\"1\" class=\"dataframe\">\n",
       "  <thead>\n",
       "    <tr style=\"text-align: right;\">\n",
       "      <th></th>\n",
       "      <th>textID</th>\n",
       "      <th>text</th>\n",
       "      <th>selected_text</th>\n",
       "      <th>sentiment</th>\n",
       "    </tr>\n",
       "  </thead>\n",
       "  <tbody>\n",
       "    <tr>\n",
       "      <th>1356</th>\n",
       "      <td>7651967ec9</td>\n",
       "      <td>i want some grape soda, jack fowers` fault. also,  i wish i could see you play  are your uk gigs sold out? please reply!!!!!!!!</td>\n",
       "      <td>fault. also,  i wish i could see you play  are your uk gigs sold out? please reply!!!!!!!!</td>\n",
       "      <td>neutral</td>\n",
       "    </tr>\n",
       "    <tr>\n",
       "      <th>1758</th>\n",
       "      <td>f9147427db</td>\n",
       "      <td>that David -- nice to know he feels so comfortable 'twitting' or 'tweeting' us.   I have a feeling he misses home.</td>\n",
       "      <td>nice to know he feels so comfortable 'twitting' or 'tweeting' us.   I have a feeling he misses home</td>\n",
       "      <td>neutral</td>\n",
       "    </tr>\n",
       "    <tr>\n",
       "      <th>3344</th>\n",
       "      <td>eb789743a8</td>\n",
       "      <td>Thanks for the tip! Unfortunately a major crash in my https site, just as ExtPlorer</td>\n",
       "      <td>Thanks for the tip! Unfortunately a major crash in my https site,</td>\n",
       "      <td>neutral</td>\n",
       "    </tr>\n",
       "    <tr>\n",
       "      <th>17666</th>\n",
       "      <td>5eff927ac5</td>\n",
       "      <td>That mango shake made ALL the difference.  - http://tweet.sg</td>\n",
       "      <td>That mango shake made ALL the difference.</td>\n",
       "      <td>neutral</td>\n",
       "    </tr>\n",
       "    <tr>\n",
       "      <th>8902</th>\n",
       "      <td>3412e405af</td>\n",
       "      <td>Brad Paisley+Alison Krauss- Whiskey Lullaby...so sad  but its awesome!</td>\n",
       "      <td>so sad  but its awesome!</td>\n",
       "      <td>neutral</td>\n",
       "    </tr>\n",
       "    <tr>\n",
       "      <th>15167</th>\n",
       "      <td>999d9eb8aa</td>\n",
       "      <td>http://twitpic.com/66y00 - Niceee  Hey i never get stickersss</td>\n",
       "      <td>Niceee  Hey i never get stickersss</td>\n",
       "      <td>neutral</td>\n",
       "    </tr>\n",
       "    <tr>\n",
       "      <th>18398</th>\n",
       "      <td>644702023f</td>\n",
       "      <td>Hmm...what to make for dinner tonight???  No clue.  Don`t feel like cooking anything    Hubby wants to go away tonight.</td>\n",
       "      <td>Hmm...what to make for dinner tonight???  No clue.  Don`t feel like cooking anything    Hubby wants to go away tonigh</td>\n",
       "      <td>neutral</td>\n",
       "    </tr>\n",
       "    <tr>\n",
       "      <th>7108</th>\n",
       "      <td>dd8b781cd9</td>\n",
       "      <td>Good night.  Sorry I missed you during our morning window.  See you at 5, I suspect.</td>\n",
       "      <td>Good night.  Sorry I missed you during our morning window.  See you at 5, I suspect</td>\n",
       "      <td>neutral</td>\n",
       "    </tr>\n",
       "    <tr>\n",
       "      <th>18240</th>\n",
       "      <td>6fbe1bf447</td>\n",
       "      <td>I`m still thinking ... Idk</td>\n",
       "      <td>I`m still thinking</td>\n",
       "      <td>neutral</td>\n",
       "    </tr>\n",
       "    <tr>\n",
       "      <th>3264</th>\n",
       "      <td>4f5f302b6d</td>\n",
       "      <td>: Omg! I never got your message so I didn`t notice until I was looking back a ways! Sorry, that was a good idea though...lol</td>\n",
       "      <td>Omg! I never got your message so I didn`t notice until I was looking back a ways! Sorry, that was a good idea though...lol</td>\n",
       "      <td>neutral</td>\n",
       "    </tr>\n",
       "  </tbody>\n",
       "</table>\n",
       "</div>"
      ],
      "text/plain": [
       "           textID  \\\n",
       "1356   7651967ec9   \n",
       "1758   f9147427db   \n",
       "3344   eb789743a8   \n",
       "17666  5eff927ac5   \n",
       "8902   3412e405af   \n",
       "15167  999d9eb8aa   \n",
       "18398  644702023f   \n",
       "7108   dd8b781cd9   \n",
       "18240  6fbe1bf447   \n",
       "3264   4f5f302b6d   \n",
       "\n",
       "                                                                                                                                  text  \\\n",
       "1356   i want some grape soda, jack fowers` fault. also,  i wish i could see you play  are your uk gigs sold out? please reply!!!!!!!!   \n",
       "1758   that David -- nice to know he feels so comfortable 'twitting' or 'tweeting' us.   I have a feeling he misses home.                \n",
       "3344   Thanks for the tip! Unfortunately a major crash in my https site, just as ExtPlorer                                               \n",
       "17666  That mango shake made ALL the difference.  - http://tweet.sg                                                                      \n",
       "8902   Brad Paisley+Alison Krauss- Whiskey Lullaby...so sad  but its awesome!                                                            \n",
       "15167  http://twitpic.com/66y00 - Niceee  Hey i never get stickersss                                                                     \n",
       "18398  Hmm...what to make for dinner tonight???  No clue.  Don`t feel like cooking anything    Hubby wants to go away tonight.           \n",
       "7108   Good night.  Sorry I missed you during our morning window.  See you at 5, I suspect.                                              \n",
       "18240  I`m still thinking ... Idk                                                                                                        \n",
       "3264   : Omg! I never got your message so I didn`t notice until I was looking back a ways! Sorry, that was a good idea though...lol      \n",
       "\n",
       "                                                                                                                    selected_text  \\\n",
       "1356   fault. also,  i wish i could see you play  are your uk gigs sold out? please reply!!!!!!!!                                   \n",
       "1758   nice to know he feels so comfortable 'twitting' or 'tweeting' us.   I have a feeling he misses home                          \n",
       "3344   Thanks for the tip! Unfortunately a major crash in my https site,                                                            \n",
       "17666  That mango shake made ALL the difference.                                                                                    \n",
       "8902   so sad  but its awesome!                                                                                                     \n",
       "15167  Niceee  Hey i never get stickersss                                                                                           \n",
       "18398  Hmm...what to make for dinner tonight???  No clue.  Don`t feel like cooking anything    Hubby wants to go away tonigh        \n",
       "7108   Good night.  Sorry I missed you during our morning window.  See you at 5, I suspect                                          \n",
       "18240  I`m still thinking                                                                                                           \n",
       "3264   Omg! I never got your message so I didn`t notice until I was looking back a ways! Sorry, that was a good idea though...lol   \n",
       "\n",
       "      sentiment  \n",
       "1356   neutral   \n",
       "1758   neutral   \n",
       "3344   neutral   \n",
       "17666  neutral   \n",
       "8902   neutral   \n",
       "15167  neutral   \n",
       "18398  neutral   \n",
       "7108   neutral   \n",
       "18240  neutral   \n",
       "3264   neutral   "
      ]
     },
     "execution_count": 40,
     "metadata": {},
     "output_type": "execute_result"
    }
   ],
   "source": [
    "neutral[neutral.text != neutral.selected_text].sample(n=10)"
   ]
  },
  {
   "cell_type": "code",
   "execution_count": null,
   "metadata": {},
   "outputs": [],
   "source": []
  }
 ],
 "metadata": {
  "kernelspec": {
   "display_name": "Python 3",
   "language": "python",
   "name": "python3"
  },
  "language_info": {
   "codemirror_mode": {
    "name": "ipython",
    "version": 3
   },
   "file_extension": ".py",
   "mimetype": "text/x-python",
   "name": "python",
   "nbconvert_exporter": "python",
   "pygments_lexer": "ipython3",
   "version": "3.6.8"
  }
 },
 "nbformat": 4,
 "nbformat_minor": 4
}
