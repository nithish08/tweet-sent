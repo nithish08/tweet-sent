{
 "cells": [
  {
   "cell_type": "code",
   "execution_count": 1,
   "metadata": {},
   "outputs": [],
   "source": [
    "import pandas as pd"
   ]
  },
  {
   "cell_type": "code",
   "execution_count": 5,
   "metadata": {},
   "outputs": [],
   "source": [
    "train = pd.read_csv('data/train.csv')"
   ]
  },
  {
   "cell_type": "code",
   "execution_count": 6,
   "metadata": {},
   "outputs": [
    {
     "data": {
      "text/plain": [
       "(27481, 4)"
      ]
     },
     "execution_count": 6,
     "metadata": {},
     "output_type": "execute_result"
    }
   ],
   "source": [
    "train.shape"
   ]
  },
  {
   "cell_type": "code",
   "execution_count": 8,
   "metadata": {},
   "outputs": [
    {
     "data": {
      "text/html": [
       "<div>\n",
       "<style scoped>\n",
       "    .dataframe tbody tr th:only-of-type {\n",
       "        vertical-align: middle;\n",
       "    }\n",
       "\n",
       "    .dataframe tbody tr th {\n",
       "        vertical-align: top;\n",
       "    }\n",
       "\n",
       "    .dataframe thead th {\n",
       "        text-align: right;\n",
       "    }\n",
       "</style>\n",
       "<table border=\"1\" class=\"dataframe\">\n",
       "  <thead>\n",
       "    <tr style=\"text-align: right;\">\n",
       "      <th></th>\n",
       "      <th>textID</th>\n",
       "      <th>text</th>\n",
       "      <th>selected_text</th>\n",
       "      <th>sentiment</th>\n",
       "    </tr>\n",
       "  </thead>\n",
       "  <tbody>\n",
       "    <tr>\n",
       "      <th>0</th>\n",
       "      <td>cb774db0d1</td>\n",
       "      <td>I`d have responded, if I were going</td>\n",
       "      <td>I`d have responded, if I were going</td>\n",
       "      <td>neutral</td>\n",
       "    </tr>\n",
       "    <tr>\n",
       "      <th>1</th>\n",
       "      <td>549e992a42</td>\n",
       "      <td>Sooo SAD I will miss you here in San Diego!!!</td>\n",
       "      <td>Sooo SAD</td>\n",
       "      <td>negative</td>\n",
       "    </tr>\n",
       "    <tr>\n",
       "      <th>2</th>\n",
       "      <td>088c60f138</td>\n",
       "      <td>my boss is bullying me...</td>\n",
       "      <td>bullying me</td>\n",
       "      <td>negative</td>\n",
       "    </tr>\n",
       "    <tr>\n",
       "      <th>3</th>\n",
       "      <td>9642c003ef</td>\n",
       "      <td>what interview! leave me alone</td>\n",
       "      <td>leave me alone</td>\n",
       "      <td>negative</td>\n",
       "    </tr>\n",
       "    <tr>\n",
       "      <th>4</th>\n",
       "      <td>358bd9e861</td>\n",
       "      <td>Sons of ****, why couldn`t they put them on t...</td>\n",
       "      <td>Sons of ****,</td>\n",
       "      <td>negative</td>\n",
       "    </tr>\n",
       "  </tbody>\n",
       "</table>\n",
       "</div>"
      ],
      "text/plain": [
       "       textID                                               text  \\\n",
       "0  cb774db0d1                I`d have responded, if I were going   \n",
       "1  549e992a42      Sooo SAD I will miss you here in San Diego!!!   \n",
       "2  088c60f138                          my boss is bullying me...   \n",
       "3  9642c003ef                     what interview! leave me alone   \n",
       "4  358bd9e861   Sons of ****, why couldn`t they put them on t...   \n",
       "\n",
       "                         selected_text sentiment  \n",
       "0  I`d have responded, if I were going   neutral  \n",
       "1                             Sooo SAD  negative  \n",
       "2                          bullying me  negative  \n",
       "3                       leave me alone  negative  \n",
       "4                        Sons of ****,  negative  "
      ]
     },
     "execution_count": 8,
     "metadata": {},
     "output_type": "execute_result"
    }
   ],
   "source": [
    "train.head()"
   ]
  },
  {
   "cell_type": "code",
   "execution_count": 9,
   "metadata": {},
   "outputs": [],
   "source": [
    "test = pd.read_csv('data/test.csv')"
   ]
  },
  {
   "cell_type": "code",
   "execution_count": 10,
   "metadata": {},
   "outputs": [
    {
     "data": {
      "text/html": [
       "<div>\n",
       "<style scoped>\n",
       "    .dataframe tbody tr th:only-of-type {\n",
       "        vertical-align: middle;\n",
       "    }\n",
       "\n",
       "    .dataframe tbody tr th {\n",
       "        vertical-align: top;\n",
       "    }\n",
       "\n",
       "    .dataframe thead th {\n",
       "        text-align: right;\n",
       "    }\n",
       "</style>\n",
       "<table border=\"1\" class=\"dataframe\">\n",
       "  <thead>\n",
       "    <tr style=\"text-align: right;\">\n",
       "      <th></th>\n",
       "      <th>textID</th>\n",
       "      <th>text</th>\n",
       "      <th>sentiment</th>\n",
       "    </tr>\n",
       "  </thead>\n",
       "  <tbody>\n",
       "    <tr>\n",
       "      <th>0</th>\n",
       "      <td>f87dea47db</td>\n",
       "      <td>Last session of the day  http://twitpic.com/67ezh</td>\n",
       "      <td>neutral</td>\n",
       "    </tr>\n",
       "    <tr>\n",
       "      <th>1</th>\n",
       "      <td>96d74cb729</td>\n",
       "      <td>Shanghai is also really exciting (precisely -...</td>\n",
       "      <td>positive</td>\n",
       "    </tr>\n",
       "    <tr>\n",
       "      <th>2</th>\n",
       "      <td>eee518ae67</td>\n",
       "      <td>Recession hit Veronique Branquinho, she has to...</td>\n",
       "      <td>negative</td>\n",
       "    </tr>\n",
       "    <tr>\n",
       "      <th>3</th>\n",
       "      <td>01082688c6</td>\n",
       "      <td>happy bday!</td>\n",
       "      <td>positive</td>\n",
       "    </tr>\n",
       "    <tr>\n",
       "      <th>4</th>\n",
       "      <td>33987a8ee5</td>\n",
       "      <td>http://twitpic.com/4w75p - I like it!!</td>\n",
       "      <td>positive</td>\n",
       "    </tr>\n",
       "  </tbody>\n",
       "</table>\n",
       "</div>"
      ],
      "text/plain": [
       "       textID                                               text sentiment\n",
       "0  f87dea47db  Last session of the day  http://twitpic.com/67ezh   neutral\n",
       "1  96d74cb729   Shanghai is also really exciting (precisely -...  positive\n",
       "2  eee518ae67  Recession hit Veronique Branquinho, she has to...  negative\n",
       "3  01082688c6                                        happy bday!  positive\n",
       "4  33987a8ee5             http://twitpic.com/4w75p - I like it!!  positive"
      ]
     },
     "execution_count": 10,
     "metadata": {},
     "output_type": "execute_result"
    }
   ],
   "source": [
    "test.head()"
   ]
  },
  {
   "cell_type": "code",
   "execution_count": 11,
   "metadata": {},
   "outputs": [],
   "source": [
    "import seaborn as sns"
   ]
  },
  {
   "cell_type": "code",
   "execution_count": 13,
   "metadata": {},
   "outputs": [
    {
     "data": {
      "image/png": "[encoded data removed]",
      "text/plain": [
       "<Figure size 432x288 with 1 Axes>"
      ]
     },
     "metadata": {
      "needs_background": "light"
     },
     "output_type": "display_data"
    }
   ],
   "source": [
    "_ = sns.countplot(train.sentiment)"
   ]
  },
  {
   "cell_type": "markdown",
   "metadata": {},
   "source": [
    "Question 1: For neutral sentiment tweets, are text and selected text columns same?"
   ]
  },
  {
   "cell_type": "code",
   "execution_count": 16,
   "metadata": {},
   "outputs": [],
   "source": [
    "neutral = train[train.sentiment=='neutral']"
   ]
  },
  {
   "cell_type": "code",
   "execution_count": 18,
   "metadata": {},
   "outputs": [
    {
     "data": {
      "text/plain": [
       "(11118, 5930)"
      ]
     },
     "execution_count": 18,
     "metadata": {},
     "output_type": "execute_result"
    }
   ],
   "source": [
    "len(neutral), sum(neutral.text == neutral.selected_text)"
   ]
  },
  {
   "cell_type": "markdown",
   "metadata": {},
   "source": [
    "Around half of the tweets with sentiment = 'neutral' are same"
   ]
  },
  {
   "cell_type": "markdown",
   "metadata": {},
   "source": [
    "Let's look at neutral tweets where text != selected_text"
   ]
  },
  {
   "cell_type": "code",
   "execution_count": 25,
   "metadata": {},
   "outputs": [],
   "source": [
    "pd.set_option('display.max_colwidth', -1)  # to display all the text"
   ]
  },
  {
   "cell_type": "code",
   "execution_count": 26,
   "metadata": {},
   "outputs": [
    {
     "data": {
      "text/html": [
       "<div>\n",
       "<style scoped>\n",
       "    .dataframe tbody tr th:only-of-type {\n",
       "        vertical-align: middle;\n",
       "    }\n",
       "\n",
       "    .dataframe tbody tr th {\n",
       "        vertical-align: top;\n",
       "    }\n",
       "\n",
       "    .dataframe thead th {\n",
       "        text-align: right;\n",
       "    }\n",
       "</style>\n",
       "<table border=\"1\" class=\"dataframe\">\n",
       "  <thead>\n",
       "    <tr style=\"text-align: right;\">\n",
       "      <th></th>\n",
       "      <th>textID</th>\n",
       "      <th>text</th>\n",
       "      <th>selected_text</th>\n",
       "      <th>sentiment</th>\n",
       "    </tr>\n",
       "  </thead>\n",
       "  <tbody>\n",
       "    <tr>\n",
       "      <th>199</th>\n",
       "      <td>7a718b23ef</td>\n",
       "      <td>_Sanderson What`s with Twatter lately?  Either I can`t get on or the replies don`t turn up!</td>\n",
       "      <td>What`s with Twatter lately?  Either I can`t get on or the replies don`t turn up!</td>\n",
       "      <td>neutral</td>\n",
       "    </tr>\n",
       "    <tr>\n",
       "      <th>19458</th>\n",
       "      <td>7dad90e273</td>\n",
       "      <td>I spoke too soon  Still a nice evening, but lots of broken cloud coming in from the south.</td>\n",
       "      <td>I spoke too soon  Still a nice evening, but lots of broken cloud coming in from the south.</td>\n",
       "      <td>neutral</td>\n",
       "    </tr>\n",
       "    <tr>\n",
       "      <th>26472</th>\n",
       "      <td>68a56eca92</td>\n",
       "      <td>..uuuups today is mother day???....sh***....iï¿½ve forgot it, my work doesnï¿½t have a end *sigh*....thank you for remind it</td>\n",
       "      <td>..uuuups today is mother day???....sh***....iï¿½ve forgot it, my work doesnï¿½t have a end *sigh*....thank you for remind it</td>\n",
       "      <td>neutral</td>\n",
       "    </tr>\n",
       "    <tr>\n",
       "      <th>2931</th>\n",
       "      <td>b1e3728694</td>\n",
       "      <td>I hope when you`re calling this the shitshow you mean that in a good way. because this will be fun.</td>\n",
       "      <td>e when you`re calling this the shitshow you mean that in a good way. because this will be fun.</td>\n",
       "      <td>neutral</td>\n",
       "    </tr>\n",
       "    <tr>\n",
       "      <th>12905</th>\n",
       "      <td>20486c94d2</td>\n",
       "      <td>why!!!! u have to bring it to you 24/7 like the _team</td>\n",
       "      <td>why!!!! u have to bring it to you 24/7 like the _team</td>\n",
       "      <td>neutral</td>\n",
       "    </tr>\n",
       "    <tr>\n",
       "      <th>22492</th>\n",
       "      <td>9954cca530</td>\n",
       "      <td>my *mom*(not aunt haha) and uncle were both adopted with very diff adoptive stories. if you want to chat sometime lmk</td>\n",
       "      <td>my *mom*(not aunt haha) and uncle were both adopted with very diff adoptive stories. if you want to chat sometime lmk</td>\n",
       "      <td>neutral</td>\n",
       "    </tr>\n",
       "    <tr>\n",
       "      <th>15505</th>\n",
       "      <td>f62728e9d7</td>\n",
       "      <td>well, someone told me it`s only there for two weeks  i`m going again next week with a friend IN SCHOOL TIME :p ...</td>\n",
       "      <td>well, someone told me it`s only there for two weeks  i`m going again next week with a friend IN SCHOOL TIME :p ..</td>\n",
       "      <td>neutral</td>\n",
       "    </tr>\n",
       "    <tr>\n",
       "      <th>16951</th>\n",
       "      <td>a181702898</td>\n",
       "      <td>i can`t call you cause my portable sais that this number not excist  i want so much to talk to you</td>\n",
       "      <td>i can`t call you cause my portable sais that this number not excist  i want so much to talk to you</td>\n",
       "      <td>neutral</td>\n",
       "    </tr>\n",
       "    <tr>\n",
       "      <th>11173</th>\n",
       "      <td>4d3e3aeb24</td>\n",
       "      <td>You really think it was that awesome? We`ll have to discuss</td>\n",
       "      <td>You really think it was that awesome? We`ll have to discuss</td>\n",
       "      <td>neutral</td>\n",
       "    </tr>\n",
       "    <tr>\n",
       "      <th>8964</th>\n",
       "      <td>4eab36d2d2</td>\n",
       "      <td>tea...  Mmmm crispy but no cake  Have headphones!</td>\n",
       "      <td>tea...  Mmmm crispy but no cake  Have headphones!</td>\n",
       "      <td>neutral</td>\n",
       "    </tr>\n",
       "  </tbody>\n",
       "</table>\n",
       "</div>"
      ],
      "text/plain": [
       "           textID  \\\n",
       "199    7a718b23ef   \n",
       "19458  7dad90e273   \n",
       "26472  68a56eca92   \n",
       "2931   b1e3728694   \n",
       "12905  20486c94d2   \n",
       "22492  9954cca530   \n",
       "15505  f62728e9d7   \n",
       "16951  a181702898   \n",
       "11173  4d3e3aeb24   \n",
       "8964   4eab36d2d2   \n",
       "\n",
       "                                                                                                                                text  \\\n",
       "199    _Sanderson What`s with Twatter lately?  Either I can`t get on or the replies don`t turn up!                                     \n",
       "19458   I spoke too soon  Still a nice evening, but lots of broken cloud coming in from the south.                                     \n",
       "26472   ..uuuups today is mother day???....sh***....iï¿½ve forgot it, my work doesnï¿½t have a end *sigh*....thank you for remind it   \n",
       "2931     I hope when you`re calling this the shitshow you mean that in a good way. because this will be fun.                           \n",
       "12905     why!!!! u have to bring it to you 24/7 like the _team                                                                        \n",
       "22492   my *mom*(not aunt haha) and uncle were both adopted with very diff adoptive stories. if you want to chat sometime lmk          \n",
       "15505   well, someone told me it`s only there for two weeks  i`m going again next week with a friend IN SCHOOL TIME :p ...             \n",
       "16951   i can`t call you cause my portable sais that this number not excist  i want so much to talk to you                             \n",
       "11173   You really think it was that awesome? We`ll have to discuss                                                                    \n",
       "8964    tea...  Mmmm crispy but no cake  Have headphones!                                                                              \n",
       "\n",
       "                                                                                                                      selected_text  \\\n",
       "199    What`s with Twatter lately?  Either I can`t get on or the replies don`t turn up!                                               \n",
       "19458  I spoke too soon  Still a nice evening, but lots of broken cloud coming in from the south.                                     \n",
       "26472  ..uuuups today is mother day???....sh***....iï¿½ve forgot it, my work doesnï¿½t have a end *sigh*....thank you for remind it   \n",
       "2931   e when you`re calling this the shitshow you mean that in a good way. because this will be fun.                                 \n",
       "12905  why!!!! u have to bring it to you 24/7 like the _team                                                                          \n",
       "22492  my *mom*(not aunt haha) and uncle were both adopted with very diff adoptive stories. if you want to chat sometime lmk          \n",
       "15505  well, someone told me it`s only there for two weeks  i`m going again next week with a friend IN SCHOOL TIME :p ..              \n",
       "16951  i can`t call you cause my portable sais that this number not excist  i want so much to talk to you                             \n",
       "11173  You really think it was that awesome? We`ll have to discuss                                                                    \n",
       "8964   tea...  Mmmm crispy but no cake  Have headphones!                                                                              \n",
       "\n",
       "      sentiment  \n",
       "199    neutral   \n",
       "19458  neutral   \n",
       "26472  neutral   \n",
       "2931   neutral   \n",
       "12905  neutral   \n",
       "22492  neutral   \n",
       "15505  neutral   \n",
       "16951  neutral   \n",
       "11173  neutral   \n",
       "8964   neutral   "
      ]
     },
     "execution_count": 26,
     "metadata": {},
     "output_type": "execute_result"
    }
   ],
   "source": [
    "neutral[neutral.text != neutral.selected_text].sample(n=10)\n",
    "# randomly pick 10 rows"
   ]
  },
  {
   "cell_type": "markdown",
   "metadata": {},
   "source": [
    "These tweets look similar.\n",
    "Are there trailing spaces or space at the beginning of strings?"
   ]
  },
  {
   "cell_type": "code",
   "execution_count": 32,
   "metadata": {},
   "outputs": [],
   "source": [
    "row = neutral.loc[19458,:]"
   ]
  },
  {
   "cell_type": "code",
   "execution_count": 34,
   "metadata": {},
   "outputs": [
    {
     "data": {
      "text/plain": [
       "True"
      ]
     },
     "execution_count": 34,
     "metadata": {},
     "output_type": "execute_result"
    }
   ],
   "source": [
    "row.text.strip() == row.selected_text.strip()"
   ]
  },
  {
   "cell_type": "markdown",
   "metadata": {},
   "source": [
    "We need to remove these leading and trailing spaces. Also for calculating jaccard similar during evaluationg these trailing and leading spaces will not affect the score."
   ]
  },
  {
   "cell_type": "code",
   "execution_count": 36,
   "metadata": {},
   "outputs": [],
   "source": [
    "train.text = train.text.str.strip()\n",
    "train.selected_text = train.selected_text.str.strip()"
   ]
  },
  {
   "cell_type": "code",
   "execution_count": 37,
   "metadata": {},
   "outputs": [],
   "source": [
    "neutral = train[train.sentiment=='neutral']"
   ]
  },
  {
   "cell_type": "code",
   "execution_count": 38,
   "metadata": {},
   "outputs": [
    {
     "data": {
      "text/plain": [
       "(11118, 10004)"
      ]
     },
     "execution_count": 38,
     "metadata": {},
     "output_type": "execute_result"
    }
   ],
   "source": [
    "len(neutral), sum(neutral.text == neutral.selected_text)"
   ]
  },
  {
   "cell_type": "markdown",
   "metadata": {},
   "source": [
    "Well, 90% of the neutral tweets have same text and selected_text."
   ]
  },
  {
   "cell_type": "markdown",
   "metadata": {},
   "source": [
    "In orde to get better sense of data, Let's look at neutral tweets where text != selected_text"
   ]
  },
  {
   "cell_type": "code",
   "execution_count": 53,
   "metadata": {},
   "outputs": [
    {
     "data": {
      "text/html": [
       "<div>\n",
       "<style scoped>\n",
       "    .dataframe tbody tr th:only-of-type {\n",
       "        vertical-align: middle;\n",
       "    }\n",
       "\n",
       "    .dataframe tbody tr th {\n",
       "        vertical-align: top;\n",
       "    }\n",
       "\n",
       "    .dataframe thead th {\n",
       "        text-align: right;\n",
       "    }\n",
       "</style>\n",
       "<table border=\"1\" class=\"dataframe\">\n",
       "  <thead>\n",
       "    <tr style=\"text-align: right;\">\n",
       "      <th></th>\n",
       "      <th>textID</th>\n",
       "      <th>text</th>\n",
       "      <th>selected_text</th>\n",
       "      <th>sentiment</th>\n",
       "    </tr>\n",
       "  </thead>\n",
       "  <tbody>\n",
       "    <tr>\n",
       "      <th>14224</th>\n",
       "      <td>07b727b996</td>\n",
       "      <td>_Kill_Boy That would be really great....except im not allowed to talk to boys on the phone  long story...my fault</td>\n",
       "      <td>That would be really great....except im not allowed to talk to boys on the phone  long story...my fault</td>\n",
       "      <td>neutral</td>\n",
       "    </tr>\n",
       "    <tr>\n",
       "      <th>20308</th>\n",
       "      <td>14cf23b3fb</td>\n",
       "      <td>Ive been dying for those!! They just so expensive in little sizes.</td>\n",
       "      <td>Ive been dying for those!! They just so expensive in little sizes</td>\n",
       "      <td>neutral</td>\n",
       "    </tr>\n",
       "    <tr>\n",
       "      <th>16325</th>\n",
       "      <td>60c700093b</td>\n",
       "      <td>still got one more year with t-mo tho  I might just get a new bb curve. Not too concerned abt apps. Batt life is important</td>\n",
       "      <td>. Not too concerned abt apps. Batt life is important</td>\n",
       "      <td>neutral</td>\n",
       "    </tr>\n",
       "    <tr>\n",
       "      <th>1126</th>\n",
       "      <td>c3897a6af3</td>\n",
       "      <td>I knew there was a reason I hated cars! 1. Too slow! 2. Too big! 3. I get car sick! 4. Motorbikes are much much much more fun!!</td>\n",
       "      <td>1. Too slow! 2. Too big! 3. I get car sick! 4. Motorbikes are much much much more fun!!</td>\n",
       "      <td>neutral</td>\n",
       "    </tr>\n",
       "    <tr>\n",
       "      <th>6114</th>\n",
       "      <td>c094f4e322</td>\n",
       "      <td>from g`s to gents season 1</td>\n",
       "      <td>from g`s to gents season</td>\n",
       "      <td>neutral</td>\n",
       "    </tr>\n",
       "    <tr>\n",
       "      <th>21195</th>\n",
       "      <td>f490685a78</td>\n",
       "      <td>Is sitting in science freezing  four days (:</td>\n",
       "      <td>Is sitting in science freezing  four days</td>\n",
       "      <td>neutral</td>\n",
       "    </tr>\n",
       "    <tr>\n",
       "      <th>4386</th>\n",
       "      <td>c529737091</td>\n",
       "      <td>: just got home from drews bday.</td>\n",
       "      <td>just got home from drews bday.</td>\n",
       "      <td>neutral</td>\n",
       "    </tr>\n",
       "    <tr>\n",
       "      <th>26354</th>\n",
       "      <td>7432bb79b0</td>\n",
       "      <td>!! WE WILL MISS THOMAS  BUT HAVE TO MOVE ON. SO WATCH THIS! http://bit.ly/r6RfC</td>\n",
       "      <td>!! WE WILL MISS THOMAS  BUT HAVE TO MOVE ON. SO WATCH THIS!</td>\n",
       "      <td>neutral</td>\n",
       "    </tr>\n",
       "    <tr>\n",
       "      <th>24234</th>\n",
       "      <td>452b595a28</td>\n",
       "      <td>youre not going, are you   ?</td>\n",
       "      <td>youre not going, are you</td>\n",
       "      <td>neutral</td>\n",
       "    </tr>\n",
       "    <tr>\n",
       "      <th>20051</th>\n",
       "      <td>82696f0c34</td>\n",
       "      <td>http://tinyurl.com/q3u32x isn`t that the podcasting gear you got in for bit-tech?</td>\n",
       "      <td>isn`t that the podcasting gear you got in for bit-tech?</td>\n",
       "      <td>neutral</td>\n",
       "    </tr>\n",
       "  </tbody>\n",
       "</table>\n",
       "</div>"
      ],
      "text/plain": [
       "           textID  \\\n",
       "14224  07b727b996   \n",
       "20308  14cf23b3fb   \n",
       "16325  60c700093b   \n",
       "1126   c3897a6af3   \n",
       "6114   c094f4e322   \n",
       "21195  f490685a78   \n",
       "4386   c529737091   \n",
       "26354  7432bb79b0   \n",
       "24234  452b595a28   \n",
       "20051  82696f0c34   \n",
       "\n",
       "                                                                                                                                  text  \\\n",
       "14224  _Kill_Boy That would be really great....except im not allowed to talk to boys on the phone  long story...my fault                 \n",
       "20308  Ive been dying for those!! They just so expensive in little sizes.                                                                \n",
       "16325  still got one more year with t-mo tho  I might just get a new bb curve. Not too concerned abt apps. Batt life is important        \n",
       "1126   I knew there was a reason I hated cars! 1. Too slow! 2. Too big! 3. I get car sick! 4. Motorbikes are much much much more fun!!   \n",
       "6114   from g`s to gents season 1                                                                                                        \n",
       "21195  Is sitting in science freezing  four days (:                                                                                      \n",
       "4386   : just got home from drews bday.                                                                                                  \n",
       "26354  !! WE WILL MISS THOMAS  BUT HAVE TO MOVE ON. SO WATCH THIS! http://bit.ly/r6RfC                                                   \n",
       "24234  youre not going, are you   ?                                                                                                      \n",
       "20051  http://tinyurl.com/q3u32x isn`t that the podcasting gear you got in for bit-tech?                                                 \n",
       "\n",
       "                                                                                                 selected_text  \\\n",
       "14224  That would be really great....except im not allowed to talk to boys on the phone  long story...my fault   \n",
       "20308  Ive been dying for those!! They just so expensive in little sizes                                         \n",
       "16325  . Not too concerned abt apps. Batt life is important                                                      \n",
       "1126   1. Too slow! 2. Too big! 3. I get car sick! 4. Motorbikes are much much much more fun!!                   \n",
       "6114   from g`s to gents season                                                                                  \n",
       "21195  Is sitting in science freezing  four days                                                                 \n",
       "4386   just got home from drews bday.                                                                            \n",
       "26354  !! WE WILL MISS THOMAS  BUT HAVE TO MOVE ON. SO WATCH THIS!                                               \n",
       "24234  youre not going, are you                                                                                  \n",
       "20051  isn`t that the podcasting gear you got in for bit-tech?                                                   \n",
       "\n",
       "      sentiment  \n",
       "14224  neutral   \n",
       "20308  neutral   \n",
       "16325  neutral   \n",
       "1126   neutral   \n",
       "6114   neutral   \n",
       "21195  neutral   \n",
       "4386   neutral   \n",
       "26354  neutral   \n",
       "24234  neutral   \n",
       "20051  neutral   "
      ]
     },
     "execution_count": 53,
     "metadata": {},
     "output_type": "execute_result"
    }
   ],
   "source": [
    "neutral[neutral.text != neutral.selected_text].sample(n=10)"
   ]
  },
  {
   "cell_type": "markdown",
   "metadata": {},
   "source": [
    "Looks like `sent` has usernames like `that David`, `ExtPlorer` which are removed in the `selected_sent`"
   ]
  },
  {
   "cell_type": "markdown",
   "metadata": {},
   "source": [
    "> some tweets which are different"
   ]
  },
  {
   "cell_type": "raw",
   "metadata": {},
   "source": [
    "textID           dd8b781cd9                                                        \n",
    "text             Good night.  Sorry I missed you during our morning window.  See you at 5, I suspect.\n",
    "selected_text    Good night.  Sorry I missed you during our morning window.  See you at 5, I suspect \n",
    "sentiment        neutral                                                           \n",
    "Name: 7108, dtype: object\n",
    "\n",
    "textID           0216f668c9                                         \n",
    "text             Woot! lol  It`s gonna be hard to send this one back\n",
    "selected_text    Woot! lol  It`s gonna be hard to send this one ba  \n",
    "sentiment        neutral                                            \n",
    "Name: 25947, dtype: object\n",
    "\n",
    "textID           521dc18140                                                                                       \n",
    "text             oh look! traditional Chinese, it`s so charming   I love the ? miss those shutters on the doors...\n",
    "selected_text    oh look! traditional Chinese, it`s so charming   I love the ? miss those shutters on the doors.  \n",
    "sentiment        neutral                                                                                          \n",
    "Name: 17577, dtype: object"
   ]
  },
  {
   "cell_type": "markdown",
   "metadata": {},
   "source": [
    "Few important points about `selected_text`:\n",
    "1. Its ends with `.` sometimes.\n",
    "1. Usernames are removed.\n",
    "1. smileys are removed."
   ]
  },
  {
   "cell_type": "markdown",
   "metadata": {},
   "source": [
    "Question 2: Any relationship b/w length of tweet and sentiment?"
   ]
  },
  {
   "cell_type": "code",
   "execution_count": 60,
   "metadata": {},
   "outputs": [
    {
     "data": {
      "text/plain": [
       "((27481,), (27480,))"
      ]
     },
     "execution_count": 60,
     "metadata": {},
     "output_type": "execute_result"
    }
   ],
   "source": [
    "train.text.shape, train.text.dropna().shape"
   ]
  },
  {
   "cell_type": "code",
   "execution_count": 62,
   "metadata": {},
   "outputs": [
    {
     "data": {
      "text/plain": [
       "((27481,), (27480,))"
      ]
     },
     "execution_count": 62,
     "metadata": {},
     "output_type": "execute_result"
    }
   ],
   "source": [
    "train.selected_text.shape, train.selected_text.dropna().shape"
   ]
  },
  {
   "cell_type": "code",
   "execution_count": 61,
   "metadata": {},
   "outputs": [
    {
     "data": {
      "text/html": [
       "<div>\n",
       "<style scoped>\n",
       "    .dataframe tbody tr th:only-of-type {\n",
       "        vertical-align: middle;\n",
       "    }\n",
       "\n",
       "    .dataframe tbody tr th {\n",
       "        vertical-align: top;\n",
       "    }\n",
       "\n",
       "    .dataframe thead th {\n",
       "        text-align: right;\n",
       "    }\n",
       "</style>\n",
       "<table border=\"1\" class=\"dataframe\">\n",
       "  <thead>\n",
       "    <tr style=\"text-align: right;\">\n",
       "      <th></th>\n",
       "      <th>textID</th>\n",
       "      <th>text</th>\n",
       "      <th>selected_text</th>\n",
       "      <th>sentiment</th>\n",
       "      <th>text_len</th>\n",
       "    </tr>\n",
       "  </thead>\n",
       "  <tbody>\n",
       "    <tr>\n",
       "      <th>314</th>\n",
       "      <td>fdb77c3752</td>\n",
       "      <td>NaN</td>\n",
       "      <td>NaN</td>\n",
       "      <td>neutral</td>\n",
       "      <td>3</td>\n",
       "    </tr>\n",
       "  </tbody>\n",
       "</table>\n",
       "</div>"
      ],
      "text/plain": [
       "         textID text selected_text sentiment  text_len\n",
       "314  fdb77c3752  NaN  NaN           neutral   3       "
      ]
     },
     "execution_count": 61,
     "metadata": {},
     "output_type": "execute_result"
    }
   ],
   "source": [
    "train[train.text.isna()]"
   ]
  },
  {
   "cell_type": "code",
   "execution_count": 65,
   "metadata": {},
   "outputs": [
    {
     "data": {
      "text/html": [
       "<div>\n",
       "<style scoped>\n",
       "    .dataframe tbody tr th:only-of-type {\n",
       "        vertical-align: middle;\n",
       "    }\n",
       "\n",
       "    .dataframe tbody tr th {\n",
       "        vertical-align: top;\n",
       "    }\n",
       "\n",
       "    .dataframe thead th {\n",
       "        text-align: right;\n",
       "    }\n",
       "</style>\n",
       "<table border=\"1\" class=\"dataframe\">\n",
       "  <thead>\n",
       "    <tr style=\"text-align: right;\">\n",
       "      <th></th>\n",
       "      <th>textID</th>\n",
       "      <th>text</th>\n",
       "      <th>sentiment</th>\n",
       "    </tr>\n",
       "  </thead>\n",
       "  <tbody>\n",
       "  </tbody>\n",
       "</table>\n",
       "</div>"
      ],
      "text/plain": [
       "Empty DataFrame\n",
       "Columns: [textID, text, sentiment]\n",
       "Index: []"
      ]
     },
     "execution_count": 65,
     "metadata": {},
     "output_type": "execute_result"
    }
   ],
   "source": [
    "test[test.text.isna()]"
   ]
  },
  {
   "cell_type": "code",
   "execution_count": 67,
   "metadata": {},
   "outputs": [],
   "source": [
    "train = train.dropna() # remove the NaN text row."
   ]
  },
  {
   "cell_type": "code",
   "execution_count": 72,
   "metadata": {},
   "outputs": [],
   "source": [
    "train.loc[:, 'text_len'] = train.loc[:,'text'].apply(lambda x: len(x))\n",
    "train.loc[:, 'selected_text_len'] = train.loc[:,'selected_text'].apply(lambda x: len(x))"
   ]
  },
  {
   "cell_type": "code",
   "execution_count": 75,
   "metadata": {},
   "outputs": [
    {
     "data": {
      "text/html": [
       "<div>\n",
       "<style scoped>\n",
       "    .dataframe tbody tr th:only-of-type {\n",
       "        vertical-align: middle;\n",
       "    }\n",
       "\n",
       "    .dataframe tbody tr th {\n",
       "        vertical-align: top;\n",
       "    }\n",
       "\n",
       "    .dataframe thead th {\n",
       "        text-align: right;\n",
       "    }\n",
       "</style>\n",
       "<table border=\"1\" class=\"dataframe\">\n",
       "  <thead>\n",
       "    <tr style=\"text-align: right;\">\n",
       "      <th></th>\n",
       "      <th>textID</th>\n",
       "      <th>text</th>\n",
       "      <th>selected_text</th>\n",
       "      <th>sentiment</th>\n",
       "      <th>text_len</th>\n",
       "      <th>selected_text_len</th>\n",
       "    </tr>\n",
       "  </thead>\n",
       "  <tbody>\n",
       "    <tr>\n",
       "      <th>0</th>\n",
       "      <td>cb774db0d1</td>\n",
       "      <td>I`d have responded, if I were going</td>\n",
       "      <td>I`d have responded, if I were going</td>\n",
       "      <td>neutral</td>\n",
       "      <td>35</td>\n",
       "      <td>35</td>\n",
       "    </tr>\n",
       "    <tr>\n",
       "      <th>1</th>\n",
       "      <td>549e992a42</td>\n",
       "      <td>Sooo SAD I will miss you here in San Diego!!!</td>\n",
       "      <td>Sooo SAD</td>\n",
       "      <td>negative</td>\n",
       "      <td>45</td>\n",
       "      <td>8</td>\n",
       "    </tr>\n",
       "    <tr>\n",
       "      <th>2</th>\n",
       "      <td>088c60f138</td>\n",
       "      <td>my boss is bullying me...</td>\n",
       "      <td>bullying me</td>\n",
       "      <td>negative</td>\n",
       "      <td>25</td>\n",
       "      <td>11</td>\n",
       "    </tr>\n",
       "    <tr>\n",
       "      <th>3</th>\n",
       "      <td>9642c003ef</td>\n",
       "      <td>what interview! leave me alone</td>\n",
       "      <td>leave me alone</td>\n",
       "      <td>negative</td>\n",
       "      <td>30</td>\n",
       "      <td>14</td>\n",
       "    </tr>\n",
       "    <tr>\n",
       "      <th>4</th>\n",
       "      <td>358bd9e861</td>\n",
       "      <td>Sons of ****, why couldn`t they put them on the releases we already bought</td>\n",
       "      <td>Sons of ****,</td>\n",
       "      <td>negative</td>\n",
       "      <td>74</td>\n",
       "      <td>13</td>\n",
       "    </tr>\n",
       "  </tbody>\n",
       "</table>\n",
       "</div>"
      ],
      "text/plain": [
       "       textID  \\\n",
       "0  cb774db0d1   \n",
       "1  549e992a42   \n",
       "2  088c60f138   \n",
       "3  9642c003ef   \n",
       "4  358bd9e861   \n",
       "\n",
       "                                                                         text  \\\n",
       "0  I`d have responded, if I were going                                          \n",
       "1  Sooo SAD I will miss you here in San Diego!!!                                \n",
       "2  my boss is bullying me...                                                    \n",
       "3  what interview! leave me alone                                               \n",
       "4  Sons of ****, why couldn`t they put them on the releases we already bought   \n",
       "\n",
       "                         selected_text sentiment  text_len  selected_text_len  \n",
       "0  I`d have responded, if I were going  neutral   35        35                 \n",
       "1  Sooo SAD                             negative  45        8                  \n",
       "2  bullying me                          negative  25        11                 \n",
       "3  leave me alone                       negative  30        14                 \n",
       "4  Sons of ****,                        negative  74        13                 "
      ]
     },
     "execution_count": 75,
     "metadata": {},
     "output_type": "execute_result"
    }
   ],
   "source": [
    "train.head()"
   ]
  },
  {
   "cell_type": "code",
   "execution_count": 77,
   "metadata": {},
   "outputs": [
    {
     "data": {
      "image/png": "[encoded data removed]",
      "text/plain": [
       "<Figure size 432x288 with 1 Axes>"
      ]
     },
     "metadata": {
      "needs_background": "light"
     },
     "output_type": "display_data"
    }
   ],
   "source": [
    "_ = sns.boxplot(x='sentiment', y='text_len', data=train)"
   ]
  },
  {
   "cell_type": "code",
   "execution_count": 78,
   "metadata": {},
   "outputs": [
    {
     "data": {
      "image/png": "[encoded data removed]",
      "text/plain": [
       "<Figure size 432x288 with 1 Axes>"
      ]
     },
     "metadata": {
      "needs_background": "light"
     },
     "output_type": "display_data"
    }
   ],
   "source": [
    "_ = sns.boxplot(x='sentiment', y='selected_text_len', data=train)"
   ]
  },
  {
   "cell_type": "code",
   "execution_count": 82,
   "metadata": {},
   "outputs": [
    {
     "data": {
      "text/plain": [
       "<matplotlib.axes._subplots.AxesSubplot at 0x124c0eeb8>"
      ]
     },
     "execution_count": 82,
     "metadata": {},
     "output_type": "execute_result"
    },
    {
     "data": {
      "image/png": "[encoded data removed]",
      "text/plain": [
       "<Figure size 432x288 with 1 Axes>"
      ]
     },
     "metadata": {
      "needs_background": "light"
     },
     "output_type": "display_data"
    }
   ],
   "source": [
    "train.loc[train.sentiment=='negative','text_len'].hist(bins=100)"
   ]
  },
  {
   "cell_type": "code",
   "execution_count": 83,
   "metadata": {},
   "outputs": [
    {
     "data": {
      "text/plain": [
       "<matplotlib.axes._subplots.AxesSubplot at 0x124c1ce48>"
      ]
     },
     "execution_count": 83,
     "metadata": {},
     "output_type": "execute_result"
    },
    {
     "data": {
      "image/png": "[encoded data removed]",
      "text/plain": [
       "<Figure size 432x288 with 1 Axes>"
      ]
     },
     "metadata": {
      "needs_background": "light"
     },
     "output_type": "display_data"
    }
   ],
   "source": [
    "train.loc[train.sentiment=='positive','text_len'].hist(bins=100)"
   ]
  },
  {
   "cell_type": "markdown",
   "metadata": {},
   "source": [
    "Question 3: How many links are there in text and selected_text"
   ]
  },
  {
   "cell_type": "markdown",
   "metadata": {},
   "source": [
    "From using excel to search for links:\n",
    "\n",
    "(seach for http)\n",
    "\n",
    "1. 1223 rows of text contain a link.\n",
    "1. 352 row of selected text contain a link."
   ]
  },
  {
   "attachments": {
    "image.png": {
     "image/png": "[encoded data removed]"
    }
   },
   "cell_type": "markdown",
   "metadata": {},
   "source": [
    "For 352 rows with link in selected text, the class dist is\n",
    "![image.png](attachment:image.png)"
   ]
  },
  {
   "cell_type": "code",
   "execution_count": null,
   "metadata": {},
   "outputs": [],
   "source": []
  }
 ],
 "metadata": {
  "kernelspec": {
   "display_name": "Python 3",
   "language": "python",
   "name": "python3"
  },
  "language_info": {
   "codemirror_mode": {
    "name": "ipython",
    "version": 3
   },
   "file_extension": ".py",
   "mimetype": "text/x-python",
   "name": "python",
   "nbconvert_exporter": "python",
   "pygments_lexer": "ipython3",
   "version": "3.6.8"
  }
 },
 "nbformat": 4,
 "nbformat_minor": 4
}
