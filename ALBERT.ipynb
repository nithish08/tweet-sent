{
 "cells": [
  {
   "cell_type": "markdown",
   "metadata": {},
   "source": [
    "Purpose of this notebook:\n",
    "\n",
    "1. Load data and do preprocessing for ALBERT model.\n",
    "2. Train the ALBERT model."
   ]
  },
  {
   "cell_type": "markdown",
   "metadata": {},
   "source": [
    "More about ALBERT:\n",
    "\n",
    "The ALBERT model was proposed in ALBERT: A Lite BERT for Self-supervised Learning of Language Representations by Zhenzhong Lan, Mingda Chen, Sebastian Goodman, Kevin Gimpel, Piyush Sharma, Radu Soricut. It presents two parameter-reduction techniques to lower memory consumption and increase the training speed of BERT:\n",
    "\n",
    "1. Splitting the embedding matrix into two smaller matrices.\n",
    "1. Using repeating layers split among groups.\n",
    "\n",
    "[link](https://huggingface.co/transformers/model_doc/albert.html)"
   ]
  },
  {
   "cell_type": "markdown",
   "metadata": {},
   "source": [
    "# Import packages"
   ]
  },
  {
   "cell_type": "code",
   "execution_count": 42,
   "metadata": {
    "_cell_guid": "b1076dfc-b9ad-4769-8c92-a6c4dae69d19",
    "_uuid": "8f2839f25d086af736a60e9eeb907d3b93b6e0e5"
   },
   "outputs": [],
   "source": [
    "import numpy as np\n",
    "import pandas as pd\n",
    "import os\n",
    "import warnings\n",
    "import random\n",
    "import torch \n",
    "from transformers import AlbertTokenizer, AlbertForQuestionAnswering\n",
    "from transformers import AutoTokenizer, AutoModelForQuestionAnswering\n",
    "from transformers import AlbertConfig\n",
    "import matplotlib.pyplot as plt\n",
    "from torch import nn\n",
    "import torch.optim as optim\n",
    "from sklearn.model_selection import StratifiedKFold\n",
    "import tokenizers\n",
    "from transformers import RobertaModel, RobertaConfig\n",
    "\n",
    "warnings.filterwarnings('ignore')\n",
    "\n",
    "from pytorch_lightning.callbacks import EarlyStopping\n",
    "from pytorch_lightning.loggers import TensorBoardLogger\n",
    "from pytorch_lightning.callbacks import ModelCheckpoint\n",
    "from argparse import Namespace"
   ]
  },
  {
   "cell_type": "markdown",
   "metadata": {},
   "source": [
    "## set gpu id"
   ]
  },
  {
   "cell_type": "code",
   "execution_count": 2,
   "metadata": {},
   "outputs": [],
   "source": [
    "torch.cuda.set_device('cuda:1')"
   ]
  },
  {
   "cell_type": "code",
   "execution_count": 3,
   "metadata": {},
   "outputs": [],
   "source": [
    "if torch.cuda.is_available():\n",
    "    device = 'cuda'\n",
    "else:\n",
    "    device = 'cpu'"
   ]
  },
  {
   "cell_type": "markdown",
   "metadata": {},
   "source": [
    "# Seed"
   ]
  },
  {
   "cell_type": "code",
   "execution_count": 4,
   "metadata": {
    "_cell_guid": "79c7e3d0-c299-4dcb-8224-4455121ee9b0",
    "_uuid": "d629ff2d2480ee46fbb7e2d37f6b5fab8052498a"
   },
   "outputs": [],
   "source": [
    "def seed_everything(seed_value):\n",
    "    random.seed(seed_value)\n",
    "    np.random.seed(seed_value)\n",
    "    torch.manual_seed(seed_value)\n",
    "    os.environ['PYTHONHASHSEED'] = str(seed_value)\n",
    "    \n",
    "    if torch.cuda.is_available(): \n",
    "        torch.cuda.manual_seed(seed_value)\n",
    "        torch.cuda.manual_seed_all(seed_value)\n",
    "        torch.backends.cudnn.deterministic = True\n",
    "        torch.backends.cudnn.benchmark = True\n",
    "\n",
    "seed = 42\n",
    "seed_everything(seed)"
   ]
  },
  {
   "cell_type": "markdown",
   "metadata": {},
   "source": [
    "## Load data"
   ]
  },
  {
   "cell_type": "markdown",
   "metadata": {},
   "source": [
    "> download the pretrained weights of alberta model\n",
    "\n",
    "**Run only once**"
   ]
  },
  {
   "cell_type": "code",
   "execution_count": 5,
   "metadata": {},
   "outputs": [],
   "source": [
    "train = pd.read_csv('data/train.csv')\n",
    "test = pd.read_csv('data/test.csv')\n",
    "for col in ['text', 'selected_text']:\n",
    "    for df in [train, test]:\n",
    "        if col in df.columns:\n",
    "            df[col] = df[col].astype(str)\n",
    "            df[col] = df[col].apply(lambda x: ' '.join(x.strip().split()))"
   ]
  },
  {
   "cell_type": "markdown",
   "metadata": {},
   "source": [
    "## Download pretrained models"
   ]
  },
  {
   "cell_type": "code",
   "execution_count": 6,
   "metadata": {},
   "outputs": [],
   "source": [
    "# # Download pretrained model\n",
    "# tokenizer = AutoTokenizer.from_pretrained(\"albert-base-v2\")\n",
    "# model = AutoModelForQuestionAnswering.from_pretrained(\"albert-base-v2\")"
   ]
  },
  {
   "cell_type": "markdown",
   "metadata": {},
   "source": [
    "## save pretrained model to local directory\n",
    "\n",
    " for future use"
   ]
  },
  {
   "cell_type": "code",
   "execution_count": 7,
   "metadata": {},
   "outputs": [],
   "source": [
    "# if not os.path.exists('pretrained_models/albert-base-v2'):\n",
    "#     os.mkdir('pretrained_models/albert-base-v2')\n",
    "\n",
    "# tokenizer.save_pretrained('pretrained_models/albert-base-v2')\n",
    "# model.save_pretrained('pretrained_models/albert-base-v2')"
   ]
  },
  {
   "cell_type": "markdown",
   "metadata": {},
   "source": [
    "## load pretrained model from local directory."
   ]
  },
  {
   "cell_type": "markdown",
   "metadata": {},
   "source": [
    "## how many unknown tokens are there"
   ]
  },
  {
   "cell_type": "markdown",
   "metadata": {},
   "source": [
    "> 14456/571005 -> 2 % unknown tokens"
   ]
  },
  {
   "cell_type": "markdown",
   "metadata": {},
   "source": [
    "### what's the maximum number of tokens for the padding size."
   ]
  },
  {
   "cell_type": "code",
   "execution_count": 8,
   "metadata": {},
   "outputs": [],
   "source": [
    "MAX_LEN = 130"
   ]
  },
  {
   "cell_type": "code",
   "execution_count": 9,
   "metadata": {},
   "outputs": [],
   "source": [
    "def get_start_end_id(question_context_encoded,\n",
    "                    answer_encoded):\n",
    "    '''\n",
    "    Returns Start and end id of tokens of answer in the\n",
    "    given question context vector.\n",
    "    These indices are used as targets for ALBERT QA model.\n",
    "    \n",
    "    Input Args:\n",
    "    \n",
    "        question_context_encoded -> tensor\n",
    "                                    shape = (1, MAX_LEN)\n",
    "                                    \n",
    "        answer_encoded           -> tensor\n",
    "                                    shape = (1, ANSWER_LEN)\n",
    "    \n",
    "    return :\n",
    "    \n",
    "    start_id   ->  tensor with one value\n",
    "    end_id   ->  tensor with one value\n",
    "    '''\n",
    "    \n",
    "    answer_len = answer_encoded.shape[1]\n",
    "    for idx in range(question_context_encoded.shape[1]):\n",
    "        if question_context_encoded[0,idx] == answer_encoded[0,0] and \\\n",
    "        torch.equal(question_context_encoded[0, idx:idx+answer_len].flatten()\n",
    "                    , answer_encoded.flatten()):\n",
    "            return torch.LongTensor([idx]).reshape(1,-1),  \\\n",
    "                        torch.LongTensor([idx+answer_len-1]).reshape(1,-1)\n",
    "    \n",
    "    return torch.LongTensor([0]).reshape(1,1), torch.LongTensor([0]).reshape(1,1)\n",
    "    "
   ]
  },
  {
   "cell_type": "markdown",
   "metadata": {},
   "source": [
    "## Dataset"
   ]
  },
  {
   "cell_type": "code",
   "execution_count": 10,
   "metadata": {},
   "outputs": [],
   "source": [
    "class TweetDataset(torch.utils.data.Dataset):\n",
    "    def __init__(self, df, max_len=MAX_LEN):\n",
    "        self.df = df\n",
    "        self.max_len = max_len\n",
    "        self.labeled = 'selected_text' in df.columns\n",
    "        self.tokenizer = AlbertTokenizer.from_pretrained('albert-base-v2')\n",
    "\n",
    "    def __getitem__(self, index):\n",
    "        \n",
    "        data = {}\n",
    "        row = self.df.iloc[index]\n",
    "        \n",
    "        context  = row.text\n",
    "        question = row.sentiment\n",
    "        \n",
    "        qc_encoded = tokenizer.encode_plus(question,context,\n",
    "                                                         max_length=MAX_LEN,\n",
    "                pad_to_max_length=True, return_tensors='pt')\n",
    "        \n",
    "        for key,value in qc_encoded.items(): # question context encoded tensors\n",
    "            data[key] = value.reshape(-1)\n",
    "            \n",
    "        if self.labeled:\n",
    "            answer   = row.selected_text\n",
    "            answer_encoded = tokenizer.encode_plus(answer,return_tensors='pt',\n",
    "                     add_special_tokens=False)['input_ids']\n",
    "            start_idx, end_idx = get_start_end_id(qc_encoded['input_ids'],\n",
    "                                                 answer_encoded)\n",
    "            data['start_idx'] = start_idx.reshape(-1)\n",
    "            data['end_idx']   = end_idx.reshape(-1)\n",
    "        \n",
    "        return data\n",
    "\n",
    "    def __len__(self):\n",
    "        return len(self.df)\n",
    "    "
   ]
  },
  {
   "cell_type": "code",
   "execution_count": 11,
   "metadata": {},
   "outputs": [],
   "source": [
    "def get_train_val_loaders(df, train_idx, val_idx, batch_size=8):\n",
    "    train = df.iloc[train_idx]\n",
    "    val_df = df.iloc[val_idx]\n",
    "\n",
    "    train_loader = torch.utils.data.DataLoader(\n",
    "        TweetDataset(train), \n",
    "        batch_size=batch_size, \n",
    "        shuffle=True, \n",
    "        num_workers=2,\n",
    "        drop_last=True)\n",
    "\n",
    "    val_loader = torch.utils.data.DataLoader(\n",
    "        TweetDataset(val_df), \n",
    "        batch_size=batch_size, \n",
    "        shuffle=False, \n",
    "        num_workers=2)\n",
    "\n",
    "    dataloaders_dict = {\"train\": train_loader, \"val\": val_loader}\n",
    "\n",
    "    return dataloaders_dict\n",
    "\n",
    "def get_test_loader(df, batch_size=32):\n",
    "    loader = torch.utils.data.DataLoader(\n",
    "        TweetDataset(df), \n",
    "        batch_size=batch_size, \n",
    "        shuffle=False, \n",
    "        num_workers=2)    \n",
    "    return loader"
   ]
  },
  {
   "cell_type": "markdown",
   "metadata": {},
   "source": [
    "# Pytorch lightning model"
   ]
  },
  {
   "cell_type": "code",
   "execution_count": 12,
   "metadata": {},
   "outputs": [],
   "source": [
    "import pytorch_lightning as pl"
   ]
  },
  {
   "cell_type": "code",
   "execution_count": 40,
   "metadata": {},
   "outputs": [],
   "source": [
    "class TweetModel(pl.LightningModule):\n",
    "    def __init__(self, hparams):\n",
    "        super(TweetModel, self).__init__()\n",
    "        \n",
    "        self.tokenizer = hparams.tokenizer\n",
    "        self.train_df  = hparams.train_df\n",
    "        self.val_df    = hparams.val_df\n",
    "        self.lr        = hparams.lr\n",
    "        self.batch_size= hparams.batch_size\n",
    "        self.n_workers = hparams.n_workers\n",
    "        \n",
    "        # load albert model\n",
    "        config         = AlbertConfig.from_pretrained(\n",
    "                                    'pretrained_models/albert-base-v2/config.json')\n",
    "        self.model     = AlbertForQuestionAnswering.from_pretrained(\n",
    "                            'pretrained_models/albert-base-v2/pytorch_model.bin', config=config)\n",
    "\n",
    "        # tensorboard purposes\n",
    "        self.train_recorder = 0\n",
    "        self.val_recorder   = 0\n",
    "        \n",
    "        # log hparams\n",
    "#         self.logger.experiment.add_hparams(hparam_dict={'lr':lr},metric_dict={})\n",
    "        \n",
    "    def forward(self, input_ids, attention_mask, token_type_ids,\n",
    "               start_positions=None, end_positions=None):\n",
    "        \n",
    "        loss = None\n",
    "        \n",
    "        if start_positions is None:\n",
    "            input_ids      = input_ids.to(device)\n",
    "            attention_mask = attention_mask.to(device)\n",
    "            token_type_ids = token_type_ids.to(device)\n",
    "            \n",
    "            start_logits, end_logits = self.model.forward(input_ids, attention_mask,\n",
    "                                                         token_type_ids)\n",
    "        else: \n",
    "            input_ids      = input_ids.to(device)\n",
    "            attention_mask = attention_mask.to(device)\n",
    "            token_type_ids = token_type_ids.to(device)\n",
    "            start_positions= start_positions.to(device)\n",
    "            end_positions  = end_positions.to(device)\n",
    "            \n",
    "            loss, start_logits, end_logits = self.model.forward(input_ids = input_ids,\n",
    "                                                                attention_mask = attention_mask,\n",
    "                                                                token_type_ids = token_type_ids, \n",
    "                                                                start_positions= start_positions,\n",
    "                                                                end_positions  = end_positions)\n",
    "        return loss, start_logits, end_logits\n",
    "        \n",
    "    \n",
    "    def training_step(self, batch, batch_idx):\n",
    "        loss, start_logits, end_logits = self.forward(input_ids=batch['input_ids'], \n",
    "                                       attention_mask=batch['attention_mask'], \n",
    "                                       token_type_ids=batch['token_type_ids'],\n",
    "                                       start_positions= batch['start_idx'],\n",
    "                                       end_positions =  batch['end_idx'])\n",
    "        \n",
    "        self.logger.experiment.add_scalar('loss/train',\n",
    "                                          loss.item(),\n",
    "                                          global_step=self.train_recorder)\n",
    "        self.train_recorder += 1  # for tensorboard purposes\n",
    "        \n",
    "        pb = {'train_loss':loss}\n",
    "        return {'loss': loss, 'progress_bar':pb}\n",
    "    \n",
    "    \n",
    "    def configure_optimizers(self):\n",
    "        return torch.optim.AdamW([p for p in self.parameters() if p.requires_grad],\n",
    "                                 lr=self.lr, betas=(0.9, 0.999))\n",
    "    \n",
    "    def validation_step(self, batch, batch_idx):\n",
    "        \n",
    "        loss, start_logits, end_logits = self.forward(input_ids=batch['input_ids'], \n",
    "                                       attention_mask=batch['attention_mask'], \n",
    "                                       token_type_ids=batch['token_type_ids'],\n",
    "                                       start_positions= batch['start_idx'],\n",
    "                                       end_positions =  batch['end_idx'])\n",
    "        \n",
    "        input_ids = batch['input_ids']\n",
    "        preds = get_batch_predictions(self.tokenizer,\n",
    "                                      input_ids, start_logits, end_logits)\n",
    "        tars  = get_target_text(self.tokenizer, input_ids,\n",
    "                                batch['start_idx'], batch['end_idx'])\n",
    "        \n",
    "        jaccard_score = average_jaccard(tars, preds)\n",
    "        pb = {'val_loss':loss}\n",
    "        return {'val_loss':loss, 'val_jaccard':torch.tensor([jaccard_score]),\n",
    "               'progress_bar':pb}\n",
    "    \n",
    "    def validation_epoch_end(self, outputs):\n",
    "        avg_loss    = torch.stack([x['val_loss'] for x in outputs]).mean()\n",
    "        avg_jaccard = torch.stack([x['val_jaccard'] for x in outputs]).mean()\n",
    "        \n",
    "        self.logger.experiment.add_scalar('loss/val', avg_loss.item(), global_step=self.val_recorder)\n",
    "        self.logger.experiment.add_scalar('jaccard/val',avg_jaccard, global_step=self.val_recorder)\n",
    "        self.val_recorder += 1\n",
    "\n",
    "        return {'val_loss':avg_loss, 'val_jaccard':avg_jaccard}\n",
    "    \n",
    "    def val_dataloader(self):\n",
    "        val_loader = torch.utils.data.DataLoader(\n",
    "                                        TweetDataset(self.val_df), \n",
    "                                        batch_size=self.batch_size, \n",
    "                                        shuffle=False, \n",
    "                                        num_workers=self.n_workers)\n",
    "        return val_loader\n",
    "    \n",
    "    def train_dataloader(self):\n",
    "        train_loader = torch.utils.data.DataLoader(\n",
    "                                        TweetDataset(self.train_df), \n",
    "                                        batch_size=self.batch_size, \n",
    "                                        shuffle=True, \n",
    "                                        num_workers=self.n_workers)\n",
    "        return train_loader\n",
    "    \n",
    "        \n",
    "        "
   ]
  },
  {
   "cell_type": "markdown",
   "metadata": {},
   "source": [
    "## helper functions to model"
   ]
  },
  {
   "cell_type": "code",
   "execution_count": 14,
   "metadata": {},
   "outputs": [],
   "source": [
    "def get_batch_predictions(tokenizer, input_ids, start_logits, end_logits):\n",
    "    '''\n",
    "    \n",
    "    Input Args:\n",
    "    \n",
    "    input_ids    -> (batch_size, max_len)\n",
    "    start_logits -> (batch_size, start_scores)\n",
    "    end_logits   -> (batch_size, end_scores)\n",
    "    \n",
    "    Output:\n",
    "    List[selectec_text]\n",
    "    '''\n",
    "    \n",
    "    input_ids = input_ids.cpu().detach().numpy()\n",
    "    start_logits = start_logits.cpu().detach().numpy()\n",
    "    end_logits = end_logits.cpu().detach().numpy()\n",
    "    \n",
    "    preds = []\n",
    "    for row_id in range(input_ids.shape[0]):\n",
    "        \n",
    "        ids = input_ids[row_id,:]\n",
    "        start = np.argmax(start_logits[row_id,:])\n",
    "        end = np.argmax(end_logits[row_id,:])\n",
    "        \n",
    "        if start>end:\n",
    "            sel_ids = ids  # whole list\n",
    "            \n",
    "        else:\n",
    "            sel_ids = ids[start:end+1]\n",
    "            \n",
    "        text = tokenizer.convert_tokens_to_string(\n",
    "                        tokenizer.convert_ids_to_tokens(sel_ids))\n",
    "        preds.append(text)\n",
    "        \n",
    "    return preds\n",
    "\n",
    "\n",
    "def get_target_text(tokenizer, input_ids, starts, ends):\n",
    "    '''gets the target text given tokenizer \n",
    "    input ids, starts and ends'''\n",
    "    input_ids = input_ids.cpu().detach().numpy()\n",
    "    starts = starts.cpu().detach().numpy().flatten()\n",
    "    ends = ends.cpu().detach().numpy().flatten()\n",
    "    \n",
    "    tars = []\n",
    "    for row_id in range(input_ids.shape[0]):\n",
    "        ids = input_ids[row_id,:]\n",
    "        start, end = starts[row_id], ends[row_id]\n",
    "        text = tokenizer.convert_tokens_to_string(\n",
    "                tokenizer.convert_ids_to_tokens(ids[start:end+1]))\n",
    "        tars.append(text)\n",
    "    \n",
    "    return tars\n",
    "\n",
    "def jaccard(str1, str2): \n",
    "    a = set(str1.lower().split()) \n",
    "    b = set(str2.lower().split())\n",
    "    c = a.intersection(b)\n",
    "    return float(len(c)) / (len(a) + len(b) - len(c))\n",
    "\n",
    "def average_jaccard(targets, predictions):\n",
    "    '''get average jaccard for multiple predictions'''\n",
    "    total_score = 0\n",
    "    \n",
    "    for t, p in zip(targets, predictions):\n",
    "        sample_score = jaccard(t, p)\n",
    "        total_score += sample_score\n",
    "    \n",
    "    return total_score/len(targets)  # average\n",
    "\n",
    "def get_total_params(model):\n",
    "    s = 0\n",
    "    for param in model.parameters():\n",
    "        s += param.numel()\n",
    "    return s\n",
    "\n",
    "def get_trainable_params(model):\n",
    "    s = 0\n",
    "    for param in model.parameters():\n",
    "        if param.requires_grad:\n",
    "            s += param.numel()\n",
    "    return s\n",
    "\n",
    "def print_trainable_params(model):\n",
    "    \n",
    "    for name, param in model.named_parameters():\n",
    "        if param.requires_grad:\n",
    "            print(name)\n",
    "\n",
    "def finetune_model(model, last_n):\n",
    "    '''freezes all the layers in the model except last_n number of layers\n",
    "    \n",
    "    Input:\n",
    "    \n",
    "    model  :  pytorch model\n",
    "    last_n    :  number of last layers to unfreeze\n",
    "    '''\n",
    "    \n",
    "    total_layers = len(list(model.parameters()))\n",
    "    \n",
    "    for enum, param in enumerate(model.parameters()):\n",
    "        param.requires_grad = False\n",
    "        if enum + last_n >= total_layers:\n",
    "            param.requires_grad = True\n",
    "    "
   ]
  },
  {
   "cell_type": "markdown",
   "metadata": {},
   "source": [
    "# Loss Function"
   ]
  },
  {
   "cell_type": "code",
   "execution_count": 15,
   "metadata": {},
   "outputs": [],
   "source": [
    "def loss_fn(start_logits, end_logits, start_positions, end_positions):\n",
    "    ce_loss = nn.CrossEntropyLoss()\n",
    "    start_loss = ce_loss(start_logits, start_positions)\n",
    "    end_loss = ce_loss(end_logits, end_positions)    \n",
    "    total_loss = start_loss + end_loss\n",
    "    return total_loss"
   ]
  },
  {
   "cell_type": "markdown",
   "metadata": {},
   "source": [
    "# Training"
   ]
  },
  {
   "cell_type": "code",
   "execution_count": 16,
   "metadata": {},
   "outputs": [],
   "source": [
    "num_epochs = 6\n",
    "batch_size = 64\n",
    "skf = StratifiedKFold(n_splits=10, shuffle=True, random_state=seed)"
   ]
  },
  {
   "cell_type": "code",
   "execution_count": 17,
   "metadata": {},
   "outputs": [],
   "source": [
    "tokenizer = AlbertTokenizer.from_pretrained('pretrained_models/albert-base-v2')"
   ]
  },
  {
   "cell_type": "code",
   "execution_count": 18,
   "metadata": {},
   "outputs": [
    {
     "name": "stdout",
     "output_type": "stream",
     "text": [
      "Fold: 1\n",
      "CPU times: user 27.1 ms, sys: 401 µs, total: 27.5 ms\n",
      "Wall time: 26.8 ms\n"
     ]
    }
   ],
   "source": [
    "%%time\n",
    "\n",
    "for fold, (train_idx, val_idx) in enumerate(skf.split(train, train.sentiment), start=1): \n",
    "    print(f'Fold: {fold}')\n",
    "    train_df, val_df = train.iloc[train_idx], train.iloc[val_idx]\n",
    "    break"
   ]
  },
  {
   "cell_type": "code",
   "execution_count": 19,
   "metadata": {},
   "outputs": [],
   "source": [
    "from pytorch_lightning.callbacks import EarlyStopping\n",
    "from pytorch_lightning.loggers import TensorBoardLogger\n",
    "from pytorch_lightning.callbacks import ModelCheckpoint\n",
    "from argparse import Namespace"
   ]
  },
  {
   "cell_type": "code",
   "execution_count": 20,
   "metadata": {},
   "outputs": [],
   "source": [
    "hparams = dict(tokenizer=tokenizer,train_df=train_df, val_df=val_df,\n",
    "                        lr=3e-5, batch_size=64,n_workers=4)\n",
    "\n",
    "hparams = Namespace(**hparams)"
   ]
  },
  {
   "cell_type": "code",
   "execution_count": 89,
   "metadata": {
    "collapsed": true,
    "jupyter": {
     "outputs_hidden": true
    }
   },
   "outputs": [
    {
     "data": {
      "text/plain": [
       "TweetModel(\n",
       "  (model): AlbertForQuestionAnswering(\n",
       "    (albert): AlbertModel(\n",
       "      (embeddings): AlbertEmbeddings(\n",
       "        (word_embeddings): Embedding(30000, 128, padding_idx=0)\n",
       "        (position_embeddings): Embedding(512, 128)\n",
       "        (token_type_embeddings): Embedding(2, 128)\n",
       "        (LayerNorm): LayerNorm((128,), eps=1e-12, elementwise_affine=True)\n",
       "        (dropout): Dropout(p=0, inplace=False)\n",
       "      )\n",
       "      (encoder): AlbertTransformer(\n",
       "        (embedding_hidden_mapping_in): Linear(in_features=128, out_features=768, bias=True)\n",
       "        (albert_layer_groups): ModuleList(\n",
       "          (0): AlbertLayerGroup(\n",
       "            (albert_layers): ModuleList(\n",
       "              (0): AlbertLayer(\n",
       "                (full_layer_layer_norm): LayerNorm((768,), eps=1e-12, elementwise_affine=True)\n",
       "                (attention): AlbertAttention(\n",
       "                  (query): Linear(in_features=768, out_features=768, bias=True)\n",
       "                  (key): Linear(in_features=768, out_features=768, bias=True)\n",
       "                  (value): Linear(in_features=768, out_features=768, bias=True)\n",
       "                  (dropout): Dropout(p=0, inplace=False)\n",
       "                  (dense): Linear(in_features=768, out_features=768, bias=True)\n",
       "                  (LayerNorm): LayerNorm((768,), eps=1e-12, elementwise_affine=True)\n",
       "                )\n",
       "                (ffn): Linear(in_features=768, out_features=3072, bias=True)\n",
       "                (ffn_output): Linear(in_features=3072, out_features=768, bias=True)\n",
       "              )\n",
       "            )\n",
       "          )\n",
       "        )\n",
       "      )\n",
       "      (pooler): Linear(in_features=768, out_features=768, bias=True)\n",
       "      (pooler_activation): Tanh()\n",
       "    )\n",
       "    (qa_outputs): Linear(in_features=768, out_features=2, bias=True)\n",
       "  )\n",
       ")"
      ]
     },
     "execution_count": 89,
     "metadata": {},
     "output_type": "execute_result"
    }
   ],
   "source": [
    "tweet_model = TweetModel(hparams)\n",
    "finetune_model(tweet_model, 2)\n",
    "tweet_model.cuda()"
   ]
  },
  {
   "cell_type": "code",
   "execution_count": 90,
   "metadata": {},
   "outputs": [
    {
     "name": "stderr",
     "output_type": "stream",
     "text": [
      "GPU available: True, used: False\n",
      "No environment variable for node rank defined. Set as 0.\n"
     ]
    }
   ],
   "source": [
    "trainer = pl.Trainer()"
   ]
  },
  {
   "cell_type": "code",
   "execution_count": 91,
   "metadata": {
    "collapsed": true,
    "jupyter": {
     "outputs_hidden": true
    }
   },
   "outputs": [
    {
     "name": "stderr",
     "output_type": "stream",
     "text": [
      "\n",
      "   | Name                                                                             | Type                       | Params\n",
      "----------------------------------------------------------------------------------------------------------------------------\n",
      "0  | model                                                                            | AlbertForQuestionAnswering | 11 M  \n",
      "1  | model.albert                                                                     | AlbertModel                | 11 M  \n",
      "2  | model.albert.embeddings                                                          | AlbertEmbeddings           | 3 M   \n",
      "3  | model.albert.embeddings.word_embeddings                                          | Embedding                  | 3 M   \n",
      "4  | model.albert.embeddings.position_embeddings                                      | Embedding                  | 65 K  \n",
      "5  | model.albert.embeddings.token_type_embeddings                                    | Embedding                  | 256   \n",
      "6  | model.albert.embeddings.LayerNorm                                                | LayerNorm                  | 256   \n",
      "7  | model.albert.embeddings.dropout                                                  | Dropout                    | 0     \n",
      "8  | model.albert.encoder                                                             | AlbertTransformer          | 7 M   \n",
      "9  | model.albert.encoder.embedding_hidden_mapping_in                                 | Linear                     | 99 K  \n",
      "10 | model.albert.encoder.albert_layer_groups                                         | ModuleList                 | 7 M   \n",
      "11 | model.albert.encoder.albert_layer_groups.0                                       | AlbertLayerGroup           | 7 M   \n",
      "12 | model.albert.encoder.albert_layer_groups.0.albert_layers                         | ModuleList                 | 7 M   \n",
      "13 | model.albert.encoder.albert_layer_groups.0.albert_layers.0                       | AlbertLayer                | 7 M   \n",
      "14 | model.albert.encoder.albert_layer_groups.0.albert_layers.0.full_layer_layer_norm | LayerNorm                  | 1 K   \n",
      "15 | model.albert.encoder.albert_layer_groups.0.albert_layers.0.attention             | AlbertAttention            | 2 M   \n",
      "16 | model.albert.encoder.albert_layer_groups.0.albert_layers.0.attention.query       | Linear                     | 590 K \n",
      "17 | model.albert.encoder.albert_layer_groups.0.albert_layers.0.attention.key         | Linear                     | 590 K \n",
      "18 | model.albert.encoder.albert_layer_groups.0.albert_layers.0.attention.value       | Linear                     | 590 K \n",
      "19 | model.albert.encoder.albert_layer_groups.0.albert_layers.0.attention.dropout     | Dropout                    | 0     \n",
      "20 | model.albert.encoder.albert_layer_groups.0.albert_layers.0.attention.dense       | Linear                     | 590 K \n",
      "21 | model.albert.encoder.albert_layer_groups.0.albert_layers.0.attention.LayerNorm   | LayerNorm                  | 1 K   \n",
      "22 | model.albert.encoder.albert_layer_groups.0.albert_layers.0.ffn                   | Linear                     | 2 M   \n",
      "23 | model.albert.encoder.albert_layer_groups.0.albert_layers.0.ffn_output            | Linear                     | 2 M   \n",
      "24 | model.albert.pooler                                                              | Linear                     | 590 K \n",
      "25 | model.albert.pooler_activation                                                   | Tanh                       | 0     \n",
      "26 | model.qa_outputs                                                                 | Linear                     | 1 K   \n"
     ]
    },
    {
     "data": {
      "application/vnd.jupyter.widget-view+json": {
       "model_id": "3643eecfed20480ca7a150c83f8b4a7f",
       "version_major": 2,
       "version_minor": 0
      },
      "text/plain": [
       "HBox(children=(FloatProgress(value=0.0, description='Finding best initial lr', style=ProgressStyle(description…"
      ]
     },
     "metadata": {},
     "output_type": "display_data"
    }
   ],
   "source": [
    "lr_finder = trainer.lr_find(tweet_model)"
   ]
  },
  {
   "cell_type": "code",
   "execution_count": 93,
   "metadata": {},
   "outputs": [
    {
     "data": {
      "image/png": "[encoded data removed]",
      "text/plain": [
       "<Figure size 432x288 with 1 Axes>"
      ]
     },
     "metadata": {
      "needs_background": "light"
     },
     "output_type": "display_data"
    }
   ],
   "source": [
    "fig = lr_finder.plot(suggest=True)"
   ]
  },
  {
   "cell_type": "code",
   "execution_count": 94,
   "metadata": {},
   "outputs": [
    {
     "data": {
      "text/plain": [
       "0.01"
      ]
     },
     "execution_count": 94,
     "metadata": {},
     "output_type": "execute_result"
    }
   ],
   "source": [
    "lr_finder.suggestion()"
   ]
  },
  {
   "cell_type": "code",
   "execution_count": 96,
   "metadata": {},
   "outputs": [
    {
     "name": "stderr",
     "output_type": "stream",
     "text": [
      "GPU available: True, used: False\n",
      "No environment variable for node rank defined. Set as 0.\n"
     ]
    }
   ],
   "source": [
    "\n",
    "\n",
    "name = 'albert-feature-extract'\n",
    "logger = TensorBoardLogger(\n",
    "                save_dir='ts-logs',\n",
    "                name = name\n",
    "            )\n",
    "if not os.path.exists('saved_models'):\n",
    "    os.mkdir('saved_models')\n",
    "if not os.path.exists(f'saved_models/{name}'):\n",
    "    os.mkdir(f'saved_models/{name}')\n",
    "checkpoint_callback = ModelCheckpoint(f'saved_models/{name}', save_top_k=2)\n",
    "early_stopping = EarlyStopping(monitor='val_loss')\n",
    "\n",
    "\n",
    "trainer = pl.Trainer(max_epochs=10,\n",
    "                     checkpoint_callback=checkpoint_callback,\n",
    "                     logger=logger,\n",
    "                    early_stop_callback=early_stopping,\n",
    "                    auto_lr_find=False)"
   ]
  },
  {
   "cell_type": "code",
   "execution_count": 97,
   "metadata": {},
   "outputs": [
    {
     "name": "stderr",
     "output_type": "stream",
     "text": [
      "\n",
      "   | Name                                                                             | Type                       | Params\n",
      "----------------------------------------------------------------------------------------------------------------------------\n",
      "0  | model                                                                            | AlbertForQuestionAnswering | 11 M  \n",
      "1  | model.albert                                                                     | AlbertModel                | 11 M  \n",
      "2  | model.albert.embeddings                                                          | AlbertEmbeddings           | 3 M   \n",
      "3  | model.albert.embeddings.word_embeddings                                          | Embedding                  | 3 M   \n",
      "4  | model.albert.embeddings.position_embeddings                                      | Embedding                  | 65 K  \n",
      "5  | model.albert.embeddings.token_type_embeddings                                    | Embedding                  | 256   \n",
      "6  | model.albert.embeddings.LayerNorm                                                | LayerNorm                  | 256   \n",
      "7  | model.albert.embeddings.dropout                                                  | Dropout                    | 0     \n",
      "8  | model.albert.encoder                                                             | AlbertTransformer          | 7 M   \n",
      "9  | model.albert.encoder.embedding_hidden_mapping_in                                 | Linear                     | 99 K  \n",
      "10 | model.albert.encoder.albert_layer_groups                                         | ModuleList                 | 7 M   \n",
      "11 | model.albert.encoder.albert_layer_groups.0                                       | AlbertLayerGroup           | 7 M   \n",
      "12 | model.albert.encoder.albert_layer_groups.0.albert_layers                         | ModuleList                 | 7 M   \n",
      "13 | model.albert.encoder.albert_layer_groups.0.albert_layers.0                       | AlbertLayer                | 7 M   \n",
      "14 | model.albert.encoder.albert_layer_groups.0.albert_layers.0.full_layer_layer_norm | LayerNorm                  | 1 K   \n",
      "15 | model.albert.encoder.albert_layer_groups.0.albert_layers.0.attention             | AlbertAttention            | 2 M   \n",
      "16 | model.albert.encoder.albert_layer_groups.0.albert_layers.0.attention.query       | Linear                     | 590 K \n",
      "17 | model.albert.encoder.albert_layer_groups.0.albert_layers.0.attention.key         | Linear                     | 590 K \n",
      "18 | model.albert.encoder.albert_layer_groups.0.albert_layers.0.attention.value       | Linear                     | 590 K \n",
      "19 | model.albert.encoder.albert_layer_groups.0.albert_layers.0.attention.dropout     | Dropout                    | 0     \n",
      "20 | model.albert.encoder.albert_layer_groups.0.albert_layers.0.attention.dense       | Linear                     | 590 K \n",
      "21 | model.albert.encoder.albert_layer_groups.0.albert_layers.0.attention.LayerNorm   | LayerNorm                  | 1 K   \n",
      "22 | model.albert.encoder.albert_layer_groups.0.albert_layers.0.ffn                   | Linear                     | 2 M   \n",
      "23 | model.albert.encoder.albert_layer_groups.0.albert_layers.0.ffn_output            | Linear                     | 2 M   \n",
      "24 | model.albert.pooler                                                              | Linear                     | 590 K \n",
      "25 | model.albert.pooler_activation                                                   | Tanh                       | 0     \n",
      "26 | model.qa_outputs                                                                 | Linear                     | 1 K   \n"
     ]
    },
    {
     "data": {
      "application/vnd.jupyter.widget-view+json": {
       "model_id": "3313ef0c857847e887c8036c35bffa5f",
       "version_major": 2,
       "version_minor": 0
      },
      "text/plain": [
       "HBox(children=(FloatProgress(value=1.0, bar_style='info', description='Validation sanity check', layout=Layout…"
      ]
     },
     "metadata": {},
     "output_type": "display_data"
    },
    {
     "name": "stdout",
     "output_type": "stream",
     "text": [
      "\r"
     ]
    },
    {
     "data": {
      "application/vnd.jupyter.widget-view+json": {
       "model_id": "83caa980127f4f2e8ce79e762a1a13cd",
       "version_major": 2,
       "version_minor": 0
      },
      "text/plain": [
       "HBox(children=(FloatProgress(value=1.0, bar_style='info', description='Training', layout=Layout(flex='2'), max…"
      ]
     },
     "metadata": {},
     "output_type": "display_data"
    },
    {
     "data": {
      "application/vnd.jupyter.widget-view+json": {
       "model_id": "443f5408be6745a88fbf228a3fc95ffc",
       "version_major": 2,
       "version_minor": 0
      },
      "text/plain": [
       "HBox(children=(FloatProgress(value=1.0, bar_style='info', description='Validating', layout=Layout(flex='2'), m…"
      ]
     },
     "metadata": {},
     "output_type": "display_data"
    },
    {
     "data": {
      "application/vnd.jupyter.widget-view+json": {
       "model_id": "37833ab7920145d2b929dc5994f2615b",
       "version_major": 2,
       "version_minor": 0
      },
      "text/plain": [
       "HBox(children=(FloatProgress(value=1.0, bar_style='info', description='Validating', layout=Layout(flex='2'), m…"
      ]
     },
     "metadata": {},
     "output_type": "display_data"
    },
    {
     "name": "stdout",
     "output_type": "stream",
     "text": [
      "\n"
     ]
    },
    {
     "data": {
      "text/plain": [
       "1"
      ]
     },
     "execution_count": 97,
     "metadata": {},
     "output_type": "execute_result"
    }
   ],
   "source": [
    "trainer.fit(tweet_model)"
   ]
  },
  {
   "cell_type": "code",
   "execution_count": 31,
   "metadata": {
    "collapsed": true,
    "jupyter": {
     "outputs_hidden": true
    }
   },
   "outputs": [
    {
     "name": "stderr",
     "output_type": "stream",
     "text": [
      "\n",
      "   | Name                                                                             | Type                       | Params\n",
      "----------------------------------------------------------------------------------------------------------------------------\n",
      "0  | model                                                                            | AlbertForQuestionAnswering | 11 M  \n",
      "1  | model.albert                                                                     | AlbertModel                | 11 M  \n",
      "2  | model.albert.embeddings                                                          | AlbertEmbeddings           | 3 M   \n",
      "3  | model.albert.embeddings.word_embeddings                                          | Embedding                  | 3 M   \n",
      "4  | model.albert.embeddings.position_embeddings                                      | Embedding                  | 65 K  \n",
      "5  | model.albert.embeddings.token_type_embeddings                                    | Embedding                  | 256   \n",
      "6  | model.albert.embeddings.LayerNorm                                                | LayerNorm                  | 256   \n",
      "7  | model.albert.embeddings.dropout                                                  | Dropout                    | 0     \n",
      "8  | model.albert.encoder                                                             | AlbertTransformer          | 7 M   \n",
      "9  | model.albert.encoder.embedding_hidden_mapping_in                                 | Linear                     | 99 K  \n",
      "10 | model.albert.encoder.albert_layer_groups                                         | ModuleList                 | 7 M   \n",
      "11 | model.albert.encoder.albert_layer_groups.0                                       | AlbertLayerGroup           | 7 M   \n",
      "12 | model.albert.encoder.albert_layer_groups.0.albert_layers                         | ModuleList                 | 7 M   \n",
      "13 | model.albert.encoder.albert_layer_groups.0.albert_layers.0                       | AlbertLayer                | 7 M   \n",
      "14 | model.albert.encoder.albert_layer_groups.0.albert_layers.0.full_layer_layer_norm | LayerNorm                  | 1 K   \n",
      "15 | model.albert.encoder.albert_layer_groups.0.albert_layers.0.attention             | AlbertAttention            | 2 M   \n",
      "16 | model.albert.encoder.albert_layer_groups.0.albert_layers.0.attention.query       | Linear                     | 590 K \n",
      "17 | model.albert.encoder.albert_layer_groups.0.albert_layers.0.attention.key         | Linear                     | 590 K \n",
      "18 | model.albert.encoder.albert_layer_groups.0.albert_layers.0.attention.value       | Linear                     | 590 K \n",
      "19 | model.albert.encoder.albert_layer_groups.0.albert_layers.0.attention.dropout     | Dropout                    | 0     \n",
      "20 | model.albert.encoder.albert_layer_groups.0.albert_layers.0.attention.dense       | Linear                     | 590 K \n",
      "21 | model.albert.encoder.albert_layer_groups.0.albert_layers.0.attention.LayerNorm   | LayerNorm                  | 1 K   \n",
      "22 | model.albert.encoder.albert_layer_groups.0.albert_layers.0.ffn                   | Linear                     | 2 M   \n",
      "23 | model.albert.encoder.albert_layer_groups.0.albert_layers.0.ffn_output            | Linear                     | 2 M   \n",
      "24 | model.albert.pooler                                                              | Linear                     | 590 K \n",
      "25 | model.albert.pooler_activation                                                   | Tanh                       | 0     \n",
      "26 | model.qa_outputs                                                                 | Linear                     | 1 K   \n"
     ]
    },
    {
     "data": {
      "application/vnd.jupyter.widget-view+json": {
       "model_id": "503b8216e2d44c23a736b42a571a0354",
       "version_major": 2,
       "version_minor": 0
      },
      "text/plain": [
       "HBox(children=(FloatProgress(value=0.0, description='Finding best initial lr', style=ProgressStyle(description…"
      ]
     },
     "metadata": {},
     "output_type": "display_data"
    }
   ],
   "source": [
    "lr_finder = trainer.lr_find(tweet_model)"
   ]
  },
  {
   "cell_type": "code",
   "execution_count": 32,
   "metadata": {
    "collapsed": true,
    "jupyter": {
     "outputs_hidden": true
    }
   },
   "outputs": [
    {
     "data": {
      "text/plain": [
       "{'lr': [1e-08,\n",
       "  1.4454397707459274e-08,\n",
       "  1.7378008287493753e-08,\n",
       "  2.0892961308540398e-08,\n",
       "  2.51188643150958e-08,\n",
       "  3.019951720402016e-08,\n",
       "  3.630780547701014e-08,\n",
       "  4.36515832240166e-08,\n",
       "  5.248074602497726e-08,\n",
       "  6.309573444801934e-08,\n",
       "  7.585775750291837e-08,\n",
       "  9.120108393559096e-08,\n",
       "  1.0964781961431852e-07,\n",
       "  1.3182567385564074e-07,\n",
       "  1.5848931924611133e-07,\n",
       "  1.9054607179632475e-07,\n",
       "  2.2908676527677735e-07,\n",
       "  2.7542287033381663e-07,\n",
       "  3.311311214825911e-07,\n",
       "  3.9810717055349735e-07,\n",
       "  4.786300923226383e-07,\n",
       "  5.75439937337157e-07,\n",
       "  6.918309709189366e-07,\n",
       "  8.317637711026709e-07,\n",
       "  1e-06,\n",
       "  1.2022644346174132e-06,\n",
       "  1.445439770745928e-06,\n",
       "  1.7378008287493761e-06,\n",
       "  2.089296130854039e-06,\n",
       "  2.5118864315095797e-06,\n",
       "  3.0199517204020163e-06,\n",
       "  3.630780547701014e-06,\n",
       "  4.365158322401661e-06,\n",
       "  5.248074602497728e-06,\n",
       "  6.3095734448019305e-06,\n",
       "  7.585775750291836e-06,\n",
       "  9.120108393559096e-06,\n",
       "  1.0964781961431852e-05,\n",
       "  1.3182567385564076e-05,\n",
       "  1.584893192461114e-05,\n",
       "  1.9054607179632464e-05,\n",
       "  2.2908676527677725e-05,\n",
       "  2.7542287033381663e-05,\n",
       "  3.311311214825911e-05,\n",
       "  3.9810717055349735e-05,\n",
       "  4.786300923226385e-05,\n",
       "  5.7543993733715664e-05,\n",
       "  6.918309709189363e-05,\n",
       "  8.317637711026709e-05,\n",
       "  0.0001,\n",
       "  0.00012022644346174131,\n",
       "  0.0001445439770745928,\n",
       "  0.00017378008287493763,\n",
       "  0.0002089296130854041,\n",
       "  0.0002511886431509582,\n",
       "  0.0003019951720402019,\n",
       "  0.000363078054770101,\n",
       "  0.0004365158322401656,\n",
       "  0.0005248074602497723,\n",
       "  0.000630957344480193,\n",
       "  0.0007585775750291836,\n",
       "  0.0009120108393559097,\n",
       "  0.0010964781961431851,\n",
       "  0.0013182567385564075,\n",
       "  0.001584893192461114,\n",
       "  0.0019054607179632484,\n",
       "  0.0022908676527677745,\n",
       "  0.002754228703338169,\n",
       "  0.003311311214825908,\n",
       "  0.003981071705534969,\n",
       "  0.00478630092322638,\n",
       "  0.005754399373371567,\n",
       "  0.006918309709189364,\n",
       "  0.008317637711026709,\n",
       "  0.01,\n",
       "  0.012022644346174132,\n",
       "  0.01445439770745928,\n",
       "  0.017378008287493765,\n",
       "  0.02089296130854041,\n",
       "  0.025118864315095822,\n",
       "  0.030199517204020192,\n",
       "  0.036307805477010104,\n",
       "  0.04365158322401657,\n",
       "  0.05248074602497723,\n",
       "  0.0630957344480193,\n",
       "  0.07585775750291836,\n",
       "  0.09120108393559097,\n",
       "  0.10964781961431852,\n",
       "  0.13182567385564073,\n",
       "  0.15848931924611143,\n",
       "  0.19054607179632482,\n",
       "  0.2290867652767775,\n",
       "  0.2754228703338169,\n",
       "  0.3311311214825908,\n",
       "  0.3981071705534969,\n",
       "  0.47863009232263803,\n",
       "  0.5754399373371567,\n",
       "  0.6918309709189363,\n",
       "  0.8317637711026709,\n",
       "  1.0],\n",
       " 'loss': [4.852814197540283,\n",
       "  4.8711871185688,\n",
       "  4.876705221376714,\n",
       "  4.862134102736493,\n",
       "  4.857629298407099,\n",
       "  4.863948692217515,\n",
       "  4.861378716460806,\n",
       "  4.85489430922122,\n",
       "  4.858595530492717,\n",
       "  4.855719952954582,\n",
       "  4.857937687393484,\n",
       "  4.8588587550934035,\n",
       "  4.858915925113151,\n",
       "  4.855735156575751,\n",
       "  4.851931281317224,\n",
       "  4.855176668640832,\n",
       "  4.8558900107012795,\n",
       "  4.854854659969428,\n",
       "  4.8571147176762155,\n",
       "  4.858685568141154,\n",
       "  4.856886971403008,\n",
       "  4.852660975762225,\n",
       "  4.852965880631312,\n",
       "  4.8517530957857895,\n",
       "  4.85493436392271,\n",
       "  4.855822318824287,\n",
       "  4.856418603056083,\n",
       "  4.852961945349571,\n",
       "  4.851898391863352,\n",
       "  4.853005068778618,\n",
       "  4.852990043469006,\n",
       "  4.855316362036063,\n",
       "  4.854136222464212,\n",
       "  4.853092965808918,\n",
       "  4.851098841794536,\n",
       "  4.848406144853146,\n",
       "  4.848552503637329,\n",
       "  4.847896568982436,\n",
       "  4.8512895418981055,\n",
       "  4.8493932621896985,\n",
       "  4.847096561414877,\n",
       "  4.845743420318874,\n",
       "  4.8434259836559495,\n",
       "  4.84124251713043,\n",
       "  4.839958699206426,\n",
       "  4.8407906383125265,\n",
       "  4.836874000331582,\n",
       "  4.835114199407724,\n",
       "  4.834016478218507,\n",
       "  4.830390838884867,\n",
       "  4.828054441372943,\n",
       "  4.825311106251531,\n",
       "  4.821362229680635,\n",
       "  4.815021071553982,\n",
       "  4.808755506786677,\n",
       "  4.800514395347506,\n",
       "  4.793709513227863,\n",
       "  4.780774314392964,\n",
       "  4.765935690708214,\n",
       "  4.748802323571938,\n",
       "  4.728936339500776,\n",
       "  4.705217532758188,\n",
       "  4.6784724837877905,\n",
       "  4.646618969474003,\n",
       "  4.6095819733282895,\n",
       "  4.569144165492666,\n",
       "  4.526303971076826,\n",
       "  4.475470473238021,\n",
       "  4.419194213816557,\n",
       "  4.363232563448719,\n",
       "  4.3068765614637945,\n",
       "  4.250415772660738,\n",
       "  4.191548955708665,\n",
       "  4.132351515552371,\n",
       "  4.073391371711905,\n",
       "  4.011979052938207,\n",
       "  3.9579144701650537,\n",
       "  3.8979306344677513,\n",
       "  3.8471717405535713,\n",
       "  3.7985684665779034,\n",
       "  3.752063532069565,\n",
       "  3.703675458876986,\n",
       "  3.654098182486417,\n",
       "  3.6039763076516005,\n",
       "  3.5599075005316374,\n",
       "  3.529294892044898,\n",
       "  3.4889354665012857,\n",
       "  3.4557436838306193,\n",
       "  3.4370149556397327,\n",
       "  3.4061388301131768,\n",
       "  3.3788285667513067,\n",
       "  3.339489676090815,\n",
       "  3.305886371867381,\n",
       "  3.285784637590797,\n",
       "  3.282073673083335,\n",
       "  3.277293816220397,\n",
       "  3.3104324657443156,\n",
       "  3.345658831507428,\n",
       "  3.380457345707983,\n",
       "  3.4147562463381473]}"
      ]
     },
     "execution_count": 32,
     "metadata": {},
     "output_type": "execute_result"
    }
   ],
   "source": [
    "lr_finder.results"
   ]
  },
  {
   "cell_type": "code",
   "execution_count": 33,
   "metadata": {},
   "outputs": [
    {
     "data": {
      "image/png": "[encoded data removed]",
      "text/plain": [
       "<Figure size 432x288 with 1 Axes>"
      ]
     },
     "metadata": {
      "needs_background": "light"
     },
     "output_type": "display_data"
    }
   ],
   "source": [
    "fig = lr_finder.plot(suggest=True)"
   ]
  },
  {
   "cell_type": "code",
   "execution_count": 34,
   "metadata": {},
   "outputs": [
    {
     "data": {
      "text/plain": [
       "0.01"
      ]
     },
     "execution_count": 34,
     "metadata": {},
     "output_type": "execute_result"
    }
   ],
   "source": [
    "lr_finder.suggestion()"
   ]
  },
  {
   "cell_type": "code",
   "execution_count": 35,
   "metadata": {},
   "outputs": [],
   "source": [
    "hparams.lr = 0.01"
   ]
  },
  {
   "cell_type": "code",
   "execution_count": 41,
   "metadata": {
    "collapsed": true,
    "jupyter": {
     "outputs_hidden": true
    }
   },
   "outputs": [
    {
     "name": "stderr",
     "output_type": "stream",
     "text": [
      "GPU available: True, used: False\n",
      "No environment variable for node rank defined. Set as 0.\n",
      "\n",
      "   | Name                                                                             | Type                       | Params\n",
      "----------------------------------------------------------------------------------------------------------------------------\n",
      "0  | model                                                                            | AlbertForQuestionAnswering | 11 M  \n",
      "1  | model.albert                                                                     | AlbertModel                | 11 M  \n",
      "2  | model.albert.embeddings                                                          | AlbertEmbeddings           | 3 M   \n",
      "3  | model.albert.embeddings.word_embeddings                                          | Embedding                  | 3 M   \n",
      "4  | model.albert.embeddings.position_embeddings                                      | Embedding                  | 65 K  \n",
      "5  | model.albert.embeddings.token_type_embeddings                                    | Embedding                  | 256   \n",
      "6  | model.albert.embeddings.LayerNorm                                                | LayerNorm                  | 256   \n",
      "7  | model.albert.embeddings.dropout                                                  | Dropout                    | 0     \n",
      "8  | model.albert.encoder                                                             | AlbertTransformer          | 7 M   \n",
      "9  | model.albert.encoder.embedding_hidden_mapping_in                                 | Linear                     | 99 K  \n",
      "10 | model.albert.encoder.albert_layer_groups                                         | ModuleList                 | 7 M   \n",
      "11 | model.albert.encoder.albert_layer_groups.0                                       | AlbertLayerGroup           | 7 M   \n",
      "12 | model.albert.encoder.albert_layer_groups.0.albert_layers                         | ModuleList                 | 7 M   \n",
      "13 | model.albert.encoder.albert_layer_groups.0.albert_layers.0                       | AlbertLayer                | 7 M   \n",
      "14 | model.albert.encoder.albert_layer_groups.0.albert_layers.0.full_layer_layer_norm | LayerNorm                  | 1 K   \n",
      "15 | model.albert.encoder.albert_layer_groups.0.albert_layers.0.attention             | AlbertAttention            | 2 M   \n",
      "16 | model.albert.encoder.albert_layer_groups.0.albert_layers.0.attention.query       | Linear                     | 590 K \n",
      "17 | model.albert.encoder.albert_layer_groups.0.albert_layers.0.attention.key         | Linear                     | 590 K \n",
      "18 | model.albert.encoder.albert_layer_groups.0.albert_layers.0.attention.value       | Linear                     | 590 K \n",
      "19 | model.albert.encoder.albert_layer_groups.0.albert_layers.0.attention.dropout     | Dropout                    | 0     \n",
      "20 | model.albert.encoder.albert_layer_groups.0.albert_layers.0.attention.dense       | Linear                     | 590 K \n",
      "21 | model.albert.encoder.albert_layer_groups.0.albert_layers.0.attention.LayerNorm   | LayerNorm                  | 1 K   \n",
      "22 | model.albert.encoder.albert_layer_groups.0.albert_layers.0.ffn                   | Linear                     | 2 M   \n",
      "23 | model.albert.encoder.albert_layer_groups.0.albert_layers.0.ffn_output            | Linear                     | 2 M   \n",
      "24 | model.albert.pooler                                                              | Linear                     | 590 K \n",
      "25 | model.albert.pooler_activation                                                   | Tanh                       | 0     \n",
      "26 | model.qa_outputs                                                                 | Linear                     | 1 K   \n"
     ]
    },
    {
     "data": {
      "application/vnd.jupyter.widget-view+json": {
       "model_id": "0cf4176f61f44b47884eb33c341cfb5a",
       "version_major": 2,
       "version_minor": 0
      },
      "text/plain": [
       "HBox(children=(FloatProgress(value=1.0, bar_style='info', description='Validation sanity check', layout=Layout…"
      ]
     },
     "metadata": {},
     "output_type": "display_data"
    },
    {
     "name": "stdout",
     "output_type": "stream",
     "text": [
      "\r"
     ]
    },
    {
     "data": {
      "application/vnd.jupyter.widget-view+json": {
       "model_id": "6ad17787e98c43528dc480a52e48a01f",
       "version_major": 2,
       "version_minor": 0
      },
      "text/plain": [
       "HBox(children=(FloatProgress(value=1.0, bar_style='info', description='Training', layout=Layout(flex='2'), max…"
      ]
     },
     "metadata": {},
     "output_type": "display_data"
    },
    {
     "data": {
      "application/vnd.jupyter.widget-view+json": {
       "model_id": "f04407c1ddcd45c98c490f0ff42e897a",
       "version_major": 2,
       "version_minor": 0
      },
      "text/plain": [
       "HBox(children=(FloatProgress(value=1.0, bar_style='info', description='Validating', layout=Layout(flex='2'), m…"
      ]
     },
     "metadata": {},
     "output_type": "display_data"
    },
    {
     "data": {
      "application/vnd.jupyter.widget-view+json": {
       "model_id": "9c6754d6637942c680e4692d8ee267da",
       "version_major": 2,
       "version_minor": 0
      },
      "text/plain": [
       "HBox(children=(FloatProgress(value=1.0, bar_style='info', description='Validating', layout=Layout(flex='2'), m…"
      ]
     },
     "metadata": {},
     "output_type": "display_data"
    },
    {
     "data": {
      "application/vnd.jupyter.widget-view+json": {
       "model_id": "77944f2605254650bb9a3b32097109a3",
       "version_major": 2,
       "version_minor": 0
      },
      "text/plain": [
       "HBox(children=(FloatProgress(value=1.0, bar_style='info', description='Validating', layout=Layout(flex='2'), m…"
      ]
     },
     "metadata": {},
     "output_type": "display_data"
    },
    {
     "name": "stdout",
     "output_type": "stream",
     "text": [
      "\n"
     ]
    },
    {
     "data": {
      "text/plain": [
       "1"
      ]
     },
     "execution_count": 41,
     "metadata": {},
     "output_type": "execute_result"
    }
   ],
   "source": [
    "tweet_model = TweetModel(hparams)\n",
    "finetune_model(tweet_model, 5)\n",
    "\n",
    "name = 'albert'\n",
    "logger = TensorBoardLogger(\n",
    "                save_dir='ts-logs',\n",
    "                name = name\n",
    "            )\n",
    "if not os.path.exists('saved_models'):\n",
    "    os.mkdir('saved_models')\n",
    "if not os.path.exists(f'saved_models/{name}'):\n",
    "    os.mkdir(f'saved_models/{name}')\n",
    "checkpoint_callback = ModelCheckpoint(f'saved_models/{name}', save_top_k=2)\n",
    "early_stopping = EarlyStopping(monitor='val_jaccard')\n",
    "\n",
    "tweet_model.cuda()\n",
    "trainer = pl.Trainer(max_epochs=10,\n",
    "                     checkpoint_callback=checkpoint_callback,\n",
    "                     logger=logger,\n",
    "                    early_stop_callback=early_stopping,\n",
    "                    auto_lr_find=False)\n",
    "trainer.fit(tweet_model)"
   ]
  },
  {
   "cell_type": "markdown",
   "metadata": {},
   "source": [
    "## change to val_loss for early stopping"
   ]
  },
  {
   "cell_type": "code",
   "execution_count": 49,
   "metadata": {},
   "outputs": [],
   "source": [
    "import torch"
   ]
  },
  {
   "cell_type": "code",
   "execution_count": 54,
   "metadata": {},
   "outputs": [],
   "source": [
    "ckpt_ = torch.load('saved_models/albert/epoch=2.ckpt')\n",
    "tweet_model.load_state_dict(ckpt_['state_dict'])"
   ]
  },
  {
   "cell_type": "code",
   "execution_count": 56,
   "metadata": {
    "collapsed": true,
    "jupyter": {
     "outputs_hidden": true
    }
   },
   "outputs": [
    {
     "data": {
      "text/plain": [
       "TweetModel(\n",
       "  (model): AlbertForQuestionAnswering(\n",
       "    (albert): AlbertModel(\n",
       "      (embeddings): AlbertEmbeddings(\n",
       "        (word_embeddings): Embedding(30000, 128, padding_idx=0)\n",
       "        (position_embeddings): Embedding(512, 128)\n",
       "        (token_type_embeddings): Embedding(2, 128)\n",
       "        (LayerNorm): LayerNorm((128,), eps=1e-12, elementwise_affine=True)\n",
       "        (dropout): Dropout(p=0, inplace=False)\n",
       "      )\n",
       "      (encoder): AlbertTransformer(\n",
       "        (embedding_hidden_mapping_in): Linear(in_features=128, out_features=768, bias=True)\n",
       "        (albert_layer_groups): ModuleList(\n",
       "          (0): AlbertLayerGroup(\n",
       "            (albert_layers): ModuleList(\n",
       "              (0): AlbertLayer(\n",
       "                (full_layer_layer_norm): LayerNorm((768,), eps=1e-12, elementwise_affine=True)\n",
       "                (attention): AlbertAttention(\n",
       "                  (query): Linear(in_features=768, out_features=768, bias=True)\n",
       "                  (key): Linear(in_features=768, out_features=768, bias=True)\n",
       "                  (value): Linear(in_features=768, out_features=768, bias=True)\n",
       "                  (dropout): Dropout(p=0, inplace=False)\n",
       "                  (dense): Linear(in_features=768, out_features=768, bias=True)\n",
       "                  (LayerNorm): LayerNorm((768,), eps=1e-12, elementwise_affine=True)\n",
       "                )\n",
       "                (ffn): Linear(in_features=768, out_features=3072, bias=True)\n",
       "                (ffn_output): Linear(in_features=3072, out_features=768, bias=True)\n",
       "              )\n",
       "            )\n",
       "          )\n",
       "        )\n",
       "      )\n",
       "      (pooler): Linear(in_features=768, out_features=768, bias=True)\n",
       "      (pooler_activation): Tanh()\n",
       "    )\n",
       "    (qa_outputs): Linear(in_features=768, out_features=2, bias=True)\n",
       "  )\n",
       ")"
      ]
     },
     "execution_count": 56,
     "metadata": {},
     "output_type": "execute_result"
    }
   ],
   "source": [
    "\n",
    "\n",
    "name = 'albert'\n",
    "logger = TensorBoardLogger(\n",
    "                save_dir='ts-logs',\n",
    "                name = name\n",
    "            )\n",
    "checkpoint_callback = ModelCheckpoint(f'saved_models/{name}', save_top_k=2)\n",
    "early_stopping = EarlyStopping(monitor='val_loss',\n",
    "                              patience=5)\n",
    "\n",
    "tweet_model.cuda()"
   ]
  },
  {
   "cell_type": "code",
   "execution_count": 57,
   "metadata": {
    "collapsed": true,
    "jupyter": {
     "outputs_hidden": true
    }
   },
   "outputs": [
    {
     "name": "stderr",
     "output_type": "stream",
     "text": [
      "GPU available: True, used: False\n",
      "No environment variable for node rank defined. Set as 0.\n",
      "\n",
      "   | Name                                                                             | Type                       | Params\n",
      "----------------------------------------------------------------------------------------------------------------------------\n",
      "0  | model                                                                            | AlbertForQuestionAnswering | 11 M  \n",
      "1  | model.albert                                                                     | AlbertModel                | 11 M  \n",
      "2  | model.albert.embeddings                                                          | AlbertEmbeddings           | 3 M   \n",
      "3  | model.albert.embeddings.word_embeddings                                          | Embedding                  | 3 M   \n",
      "4  | model.albert.embeddings.position_embeddings                                      | Embedding                  | 65 K  \n",
      "5  | model.albert.embeddings.token_type_embeddings                                    | Embedding                  | 256   \n",
      "6  | model.albert.embeddings.LayerNorm                                                | LayerNorm                  | 256   \n",
      "7  | model.albert.embeddings.dropout                                                  | Dropout                    | 0     \n",
      "8  | model.albert.encoder                                                             | AlbertTransformer          | 7 M   \n",
      "9  | model.albert.encoder.embedding_hidden_mapping_in                                 | Linear                     | 99 K  \n",
      "10 | model.albert.encoder.albert_layer_groups                                         | ModuleList                 | 7 M   \n",
      "11 | model.albert.encoder.albert_layer_groups.0                                       | AlbertLayerGroup           | 7 M   \n",
      "12 | model.albert.encoder.albert_layer_groups.0.albert_layers                         | ModuleList                 | 7 M   \n",
      "13 | model.albert.encoder.albert_layer_groups.0.albert_layers.0                       | AlbertLayer                | 7 M   \n",
      "14 | model.albert.encoder.albert_layer_groups.0.albert_layers.0.full_layer_layer_norm | LayerNorm                  | 1 K   \n",
      "15 | model.albert.encoder.albert_layer_groups.0.albert_layers.0.attention             | AlbertAttention            | 2 M   \n",
      "16 | model.albert.encoder.albert_layer_groups.0.albert_layers.0.attention.query       | Linear                     | 590 K \n",
      "17 | model.albert.encoder.albert_layer_groups.0.albert_layers.0.attention.key         | Linear                     | 590 K \n",
      "18 | model.albert.encoder.albert_layer_groups.0.albert_layers.0.attention.value       | Linear                     | 590 K \n",
      "19 | model.albert.encoder.albert_layer_groups.0.albert_layers.0.attention.dropout     | Dropout                    | 0     \n",
      "20 | model.albert.encoder.albert_layer_groups.0.albert_layers.0.attention.dense       | Linear                     | 590 K \n",
      "21 | model.albert.encoder.albert_layer_groups.0.albert_layers.0.attention.LayerNorm   | LayerNorm                  | 1 K   \n",
      "22 | model.albert.encoder.albert_layer_groups.0.albert_layers.0.ffn                   | Linear                     | 2 M   \n",
      "23 | model.albert.encoder.albert_layer_groups.0.albert_layers.0.ffn_output            | Linear                     | 2 M   \n",
      "24 | model.albert.pooler                                                              | Linear                     | 590 K \n",
      "25 | model.albert.pooler_activation                                                   | Tanh                       | 0     \n",
      "26 | model.qa_outputs                                                                 | Linear                     | 1 K   \n"
     ]
    },
    {
     "data": {
      "application/vnd.jupyter.widget-view+json": {
       "model_id": "676b280f95044c8c80ab670f57ff005e",
       "version_major": 2,
       "version_minor": 0
      },
      "text/plain": [
       "HBox(children=(FloatProgress(value=1.0, bar_style='info', description='Validation sanity check', layout=Layout…"
      ]
     },
     "metadata": {},
     "output_type": "display_data"
    },
    {
     "name": "stdout",
     "output_type": "stream",
     "text": [
      "\r"
     ]
    },
    {
     "data": {
      "application/vnd.jupyter.widget-view+json": {
       "model_id": "245b56c3c26647c6bf2189bca26c5435",
       "version_major": 2,
       "version_minor": 0
      },
      "text/plain": [
       "HBox(children=(FloatProgress(value=1.0, bar_style='info', description='Training', layout=Layout(flex='2'), max…"
      ]
     },
     "metadata": {},
     "output_type": "display_data"
    },
    {
     "data": {
      "application/vnd.jupyter.widget-view+json": {
       "model_id": "99e642688f704e62b4b5748a2bd22964",
       "version_major": 2,
       "version_minor": 0
      },
      "text/plain": [
       "HBox(children=(FloatProgress(value=1.0, bar_style='info', description='Validating', layout=Layout(flex='2'), m…"
      ]
     },
     "metadata": {},
     "output_type": "display_data"
    },
    {
     "data": {
      "application/vnd.jupyter.widget-view+json": {
       "model_id": "abc3557946784096946564fed7551a87",
       "version_major": 2,
       "version_minor": 0
      },
      "text/plain": [
       "HBox(children=(FloatProgress(value=1.0, bar_style='info', description='Validating', layout=Layout(flex='2'), m…"
      ]
     },
     "metadata": {},
     "output_type": "display_data"
    },
    {
     "data": {
      "application/vnd.jupyter.widget-view+json": {
       "model_id": "cb3bf43085d34ddea783c2fa1ad56a89",
       "version_major": 2,
       "version_minor": 0
      },
      "text/plain": [
       "HBox(children=(FloatProgress(value=1.0, bar_style='info', description='Validating', layout=Layout(flex='2'), m…"
      ]
     },
     "metadata": {},
     "output_type": "display_data"
    },
    {
     "name": "stderr",
     "output_type": "stream",
     "text": [
      "Detected KeyboardInterrupt, attempting graceful shutdown...\n"
     ]
    },
    {
     "name": "stdout",
     "output_type": "stream",
     "text": [
      "\n"
     ]
    },
    {
     "data": {
      "text/plain": [
       "1"
      ]
     },
     "execution_count": 57,
     "metadata": {},
     "output_type": "execute_result"
    }
   ],
   "source": [
    "trainer = pl.Trainer(max_epochs=10,\n",
    "                     checkpoint_callback=checkpoint_callback,\n",
    "                     logger=logger,\n",
    "                    early_stop_callback=early_stopping,\n",
    "                    auto_lr_find=False)\n",
    "trainer.fit(tweet_model)"
   ]
  },
  {
   "cell_type": "code",
   "execution_count": 65,
   "metadata": {},
   "outputs": [
    {
     "data": {
      "text/plain": [
       "592898"
      ]
     },
     "execution_count": 65,
     "metadata": {},
     "output_type": "execute_result"
    }
   ],
   "source": [
    "get_trainable_params(tweet_model)"
   ]
  },
  {
   "cell_type": "code",
   "execution_count": 66,
   "metadata": {},
   "outputs": [],
   "source": [
    "finetune_model(tweet_model,8)"
   ]
  },
  {
   "cell_type": "code",
   "execution_count": 67,
   "metadata": {},
   "outputs": [
    {
     "name": "stdout",
     "output_type": "stream",
     "text": [
      "model.albert.encoder.albert_layer_groups.0.albert_layers.0.ffn.weight\n",
      "model.albert.encoder.albert_layer_groups.0.albert_layers.0.ffn.bias\n",
      "model.albert.encoder.albert_layer_groups.0.albert_layers.0.ffn_output.weight\n",
      "model.albert.encoder.albert_layer_groups.0.albert_layers.0.ffn_output.bias\n",
      "model.albert.pooler.weight\n",
      "model.albert.pooler.bias\n",
      "model.qa_outputs.weight\n",
      "model.qa_outputs.bias\n"
     ]
    }
   ],
   "source": [
    "print_trainable_params(tweet_model)"
   ]
  },
  {
   "cell_type": "code",
   "execution_count": 68,
   "metadata": {},
   "outputs": [
    {
     "name": "stderr",
     "output_type": "stream",
     "text": [
      "\n",
      "   | Name                                                                             | Type                       | Params\n",
      "----------------------------------------------------------------------------------------------------------------------------\n",
      "0  | model                                                                            | AlbertForQuestionAnswering | 11 M  \n",
      "1  | model.albert                                                                     | AlbertModel                | 11 M  \n",
      "2  | model.albert.embeddings                                                          | AlbertEmbeddings           | 3 M   \n",
      "3  | model.albert.embeddings.word_embeddings                                          | Embedding                  | 3 M   \n",
      "4  | model.albert.embeddings.position_embeddings                                      | Embedding                  | 65 K  \n",
      "5  | model.albert.embeddings.token_type_embeddings                                    | Embedding                  | 256   \n",
      "6  | model.albert.embeddings.LayerNorm                                                | LayerNorm                  | 256   \n",
      "7  | model.albert.embeddings.dropout                                                  | Dropout                    | 0     \n",
      "8  | model.albert.encoder                                                             | AlbertTransformer          | 7 M   \n",
      "9  | model.albert.encoder.embedding_hidden_mapping_in                                 | Linear                     | 99 K  \n",
      "10 | model.albert.encoder.albert_layer_groups                                         | ModuleList                 | 7 M   \n",
      "11 | model.albert.encoder.albert_layer_groups.0                                       | AlbertLayerGroup           | 7 M   \n",
      "12 | model.albert.encoder.albert_layer_groups.0.albert_layers                         | ModuleList                 | 7 M   \n",
      "13 | model.albert.encoder.albert_layer_groups.0.albert_layers.0                       | AlbertLayer                | 7 M   \n",
      "14 | model.albert.encoder.albert_layer_groups.0.albert_layers.0.full_layer_layer_norm | LayerNorm                  | 1 K   \n",
      "15 | model.albert.encoder.albert_layer_groups.0.albert_layers.0.attention             | AlbertAttention            | 2 M   \n",
      "16 | model.albert.encoder.albert_layer_groups.0.albert_layers.0.attention.query       | Linear                     | 590 K \n",
      "17 | model.albert.encoder.albert_layer_groups.0.albert_layers.0.attention.key         | Linear                     | 590 K \n",
      "18 | model.albert.encoder.albert_layer_groups.0.albert_layers.0.attention.value       | Linear                     | 590 K \n",
      "19 | model.albert.encoder.albert_layer_groups.0.albert_layers.0.attention.dropout     | Dropout                    | 0     \n",
      "20 | model.albert.encoder.albert_layer_groups.0.albert_layers.0.attention.dense       | Linear                     | 590 K \n",
      "21 | model.albert.encoder.albert_layer_groups.0.albert_layers.0.attention.LayerNorm   | LayerNorm                  | 1 K   \n",
      "22 | model.albert.encoder.albert_layer_groups.0.albert_layers.0.ffn                   | Linear                     | 2 M   \n",
      "23 | model.albert.encoder.albert_layer_groups.0.albert_layers.0.ffn_output            | Linear                     | 2 M   \n",
      "24 | model.albert.pooler                                                              | Linear                     | 590 K \n",
      "25 | model.albert.pooler_activation                                                   | Tanh                       | 0     \n",
      "26 | model.qa_outputs                                                                 | Linear                     | 1 K   \n"
     ]
    },
    {
     "data": {
      "application/vnd.jupyter.widget-view+json": {
       "model_id": "0037249ea5e54a7dab4f274100248ce9",
       "version_major": 2,
       "version_minor": 0
      },
      "text/plain": [
       "HBox(children=(FloatProgress(value=0.0, description='Finding best initial lr', style=ProgressStyle(description…"
      ]
     },
     "metadata": {},
     "output_type": "display_data"
    },
    {
     "name": "stderr",
     "output_type": "stream",
     "text": [
      "LR finder stopped early due to diverging loss.\n"
     ]
    },
    {
     "name": "stdout",
     "output_type": "stream",
     "text": [
      "\n"
     ]
    },
    {
     "data": {
      "text/plain": [
       "<pytorch_lightning.trainer.lr_finder._LRFinder at 0x7f5df96f4590>"
      ]
     },
     "execution_count": 68,
     "metadata": {},
     "output_type": "execute_result"
    }
   ],
   "source": [
    "trainer.lr_find(tweet_model)"
   ]
  },
  {
   "cell_type": "code",
   "execution_count": null,
   "metadata": {},
   "outputs": [],
   "source": [
    "trainer = pl.Trainer(max_epochs=10,\n",
    "                     checkpoint_callback=checkpoint_callback,\n",
    "                     logger=logger,\n",
    "                    early_stop_callback=early_stopping,\n",
    "                    auto_lr_find=False)\n",
    "trainer.fit(tweet_model)"
   ]
  },
  {
   "cell_type": "code",
   "execution_count": null,
   "metadata": {},
   "outputs": [],
   "source": []
  },
  {
   "cell_type": "code",
   "execution_count": 35,
   "metadata": {},
   "outputs": [],
   "source": [
    "\n",
    "hparams = dict(tokenizer=tokenizer,\n",
    "           train_df=train_df, \n",
    "           val_df=val_df,\n",
    "           lr=3e-5, batch_size=64,\n",
    "           n_workers=4)\n",
    "hparams = Namespace(**hparams)"
   ]
  },
  {
   "cell_type": "code",
   "execution_count": 39,
   "metadata": {},
   "outputs": [
    {
     "ename": "AttributeError",
     "evalue": "'Namespace' object has no attribute 'split'",
     "output_type": "error",
     "traceback": [
      "\u001b[0;31m---------------------------------------------------------------------------\u001b[0m",
      "\u001b[0;31mAttributeError\u001b[0m                            Traceback (most recent call last)",
      "\u001b[0;32m<ipython-input-39-12e8c6927de3>\u001b[0m in \u001b[0;36m<module>\u001b[0;34m\u001b[0m\n\u001b[1;32m      1\u001b[0m tweet_model.load_from_checkpoint('saved_models/albert/epoch=4.ckpt',\n\u001b[0;32m----> 2\u001b[0;31m                                 hparams_file=hparams)\n\u001b[0m",
      "\u001b[0;32m~/anaconda3/lib/python3.7/site-packages/pytorch_lightning/core/lightning.py\u001b[0m in \u001b[0;36mload_from_checkpoint\u001b[0;34m(cls, checkpoint_path, map_location, hparams_file, tags_csv, hparam_overrides, *args, **kwargs)\u001b[0m\n\u001b[1;32m   1579\u001b[0m \u001b[0;34m\u001b[0m\u001b[0m\n\u001b[1;32m   1580\u001b[0m         \u001b[0;32mif\u001b[0m \u001b[0mhparams_file\u001b[0m \u001b[0;32mis\u001b[0m \u001b[0;32mnot\u001b[0m \u001b[0;32mNone\u001b[0m\u001b[0;34m:\u001b[0m\u001b[0;34m\u001b[0m\u001b[0;34m\u001b[0m\u001b[0m\n\u001b[0;32m-> 1581\u001b[0;31m             \u001b[0mextension\u001b[0m \u001b[0;34m=\u001b[0m \u001b[0mhparams_file\u001b[0m\u001b[0;34m.\u001b[0m\u001b[0msplit\u001b[0m\u001b[0;34m(\u001b[0m\u001b[0;34m'.'\u001b[0m\u001b[0;34m)\u001b[0m\u001b[0;34m[\u001b[0m\u001b[0;34m-\u001b[0m\u001b[0;36m1\u001b[0m\u001b[0;34m]\u001b[0m\u001b[0;34m\u001b[0m\u001b[0;34m\u001b[0m\u001b[0m\n\u001b[0m\u001b[1;32m   1582\u001b[0m             \u001b[0;32mif\u001b[0m \u001b[0mextension\u001b[0m\u001b[0;34m.\u001b[0m\u001b[0mlower\u001b[0m\u001b[0;34m(\u001b[0m\u001b[0;34m)\u001b[0m \u001b[0;32min\u001b[0m \u001b[0;34m(\u001b[0m\u001b[0;34m'csv'\u001b[0m\u001b[0;34m)\u001b[0m\u001b[0;34m:\u001b[0m\u001b[0;34m\u001b[0m\u001b[0;34m\u001b[0m\u001b[0m\n\u001b[1;32m   1583\u001b[0m                 \u001b[0mhparams\u001b[0m \u001b[0;34m=\u001b[0m \u001b[0mload_hparams_from_tags_csv\u001b[0m\u001b[0;34m(\u001b[0m\u001b[0mhparams_file\u001b[0m\u001b[0;34m)\u001b[0m\u001b[0;34m\u001b[0m\u001b[0;34m\u001b[0m\u001b[0m\n",
      "\u001b[0;31mAttributeError\u001b[0m: 'Namespace' object has no attribute 'split'"
     ]
    }
   ],
   "source": [
    "tweet_model.load_from_checkpoint('saved_models/albert/epoch=4.ckpt',\n",
    "                                hparams_file=hparams)"
   ]
  },
  {
   "cell_type": "code",
   "execution_count": null,
   "metadata": {},
   "outputs": [],
   "source": []
  },
  {
   "cell_type": "code",
   "execution_count": null,
   "metadata": {},
   "outputs": [],
   "source": [
    "%%time\n",
    "\n",
    "for fold, (train_idx, val_idx) in enumerate(skf.split(train, train.sentiment), start=1): \n",
    "    print(f'Fold: {fold}')\n",
    "\n",
    "    model = TweetModel()\n",
    "    optimizer = optim.AdamW(model.parameters(), lr=3e-5, betas=(0.9, 0.999))\n",
    "    criterion = loss_fn    \n",
    "    dataloaders_dict = get_train_val_loaders(train, train_idx, val_idx, batch_size)\n",
    "\n",
    "    train_model(\n",
    "        model, \n",
    "        dataloaders_dict,\n",
    "        criterion, \n",
    "        optimizer, \n",
    "        num_epochs,\n",
    "        f'roberta_char_level_fold{fold}.pth')"
   ]
  },
  {
   "cell_type": "markdown",
   "metadata": {},
   "source": [
    "# Inference"
   ]
  },
  {
   "cell_type": "code",
   "execution_count": null,
   "metadata": {},
   "outputs": [],
   "source": [
    "%%time\n",
    "\n",
    "test = pd.read_csv('../input/tweet-sentiment-extraction/test.csv')\n",
    "test['text'] = test['text'].astype(str)\n",
    "test_loader = get_test_loader(test)\n",
    "predictions = []\n",
    "models = []\n",
    "for fold in range(skf.n_splits):\n",
    "    model = TweetModel()\n",
    "    model.cuda()\n",
    "    model.load_state_dict(torch.load(f'roberta_fold{fold+1}.pth'))\n",
    "    model.eval()\n",
    "    models.append(model)\n",
    "\n",
    "for data in test_loader:\n",
    "    ids = data['ids'].cuda()\n",
    "    masks = data['masks'].cuda()\n",
    "    tweet = data['tweet']\n",
    "    offsets = data['offsets'].numpy()\n",
    "\n",
    "    start_logits = []\n",
    "    end_logits = []\n",
    "    for model in models:\n",
    "        with torch.no_grad():\n",
    "            output = model(ids, masks)\n",
    "            start_logits.append(torch.softmax(output[0], dim=1).cpu().detach().numpy())\n",
    "            end_logits.append(torch.softmax(output[1], dim=1).cpu().detach().numpy())\n",
    "\n",
    "    start_logits = np.mean(start_logits, axis=0)\n",
    "    end_logits = np.mean(end_logits, axis=0)\n",
    "    for i in range(len(ids)):    \n",
    "        start_pred = np.argmax(start_logits[i])\n",
    "        end_pred = np.argmax(end_logits[i])\n",
    "        if start_pred > end_pred:\n",
    "            pred = tweet[i]\n",
    "        else:\n",
    "            pred = get_selected_text(tweet[i], start_pred, end_pred, offsets[i])\n",
    "        predictions.append(pred)"
   ]
  },
  {
   "cell_type": "markdown",
   "metadata": {},
   "source": [
    "# Submission"
   ]
  },
  {
   "cell_type": "code",
   "execution_count": null,
   "metadata": {},
   "outputs": [],
   "source": [
    "sub_df = pd.read_csv('../input/tweet-sentiment-extraction/sample_submission.csv')\n",
    "sub_df['selected_text'] = predictions\n",
    "sub_df['selected_text'] = sub_df['selected_text'].apply(lambda x: x.replace('!!!!', '!') if len(x.split())==1 else x)\n",
    "sub_df['selected_text'] = sub_df['selected_text'].apply(lambda x: x.replace('..', '.') if len(x.split())==1 else x)\n",
    "sub_df['selected_text'] = sub_df['selected_text'].apply(lambda x: x.replace('...', '.') if len(x.split())==1 else x)\n",
    "sub_df.to_csv('submission.csv', index=False)\n",
    "sub_df.head()"
   ]
  }
 ],
 "metadata": {
  "kernelspec": {
   "display_name": "Python 3",
   "language": "python",
   "name": "python3"
  },
  "language_info": {
   "codemirror_mode": {
    "name": "ipython",
    "version": 3
   },
   "file_extension": ".py",
   "mimetype": "text/x-python",
   "name": "python",
   "nbconvert_exporter": "python",
   "pygments_lexer": "ipython3",
   "version": "3.7.4"
  }
 },
 "nbformat": 4,
 "nbformat_minor": 4
}
